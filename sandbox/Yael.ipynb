{
 "cells": [
  {
   "cell_type": "code",
   "execution_count": 2,
   "metadata": {},
   "outputs": [],
   "source": [
    "import librosa\n",
    "import librosa.display\n",
    "import pandas as pd\n",
    "%matplotlib inline\n",
    "import numpy as np\n",
    "from tqdm import tqdm\n",
    "from matplotlib import pyplot as plt\n",
    "tqdm.pandas()\n",
    "from matplotlib import rcParams\n",
    "rcParams['axes.titlepad'] = 20\n",
    "import os\n",
    "from os import path\n",
    "import pickle\n",
    "import math\n",
    "\n",
    "#Clustering\n",
    "from sklearn.cluster import DBSCAN\n",
    "from sklearn.cluster import KMeans\n",
    "\n",
    "#librosa\n",
    "import IPython.display as ipd"
   ]
  },
  {
   "cell_type": "markdown",
   "metadata": {},
   "source": [
    "# Get list of songs"
   ]
  },
  {
   "cell_type": "code",
   "execution_count": 3,
   "metadata": {},
   "outputs": [],
   "source": [
    "directory = \"../Google Drive/datahack2019/taylor/\"\n",
    "sub_dirs = [x[0] for x in os.walk(directory)]\n",
    "song_files = []\n",
    "for sub_dir in sub_dirs:\n",
    "    for r, d, f in os.walk(sub_dir):\n",
    "        for file in f:\n",
    "            if '.mp3' in file:\n",
    "                song_files.append(os.path.join(r, file))\n",
    "                \n",
    "song_files = set(song_files)"
   ]
  },
  {
   "cell_type": "markdown",
   "metadata": {},
   "source": [
    "# Windows by 10 secs"
   ]
  },
  {
   "cell_type": "code",
   "execution_count": 4,
   "metadata": {},
   "outputs": [
    {
     "name": "stderr",
     "output_type": "stream",
     "text": [
      "100%|██████████| 30/30 [05:28<00:00, 10.97s/it]\n"
     ]
    }
   ],
   "source": [
    "size_of_window = 10 #in seconds\n",
    "\n",
    "window_items_list = []\n",
    "for ind,song in enumerate(tqdm(song_files)):\n",
    "    \n",
    "    y, sr = librosa.load(song)\n",
    "    \n",
    "    n_fft = 2048\n",
    "    hop_length = 512\n",
    "    n_mels = 128\n",
    "    S = librosa.feature.melspectrogram(y, sr=sr, n_fft=n_fft, hop_length=hop_length, n_mels=n_mels)\n",
    "    S_DB = librosa.power_to_db(S, ref=np.max)\n",
    "    \n",
    "    windows_of_melspec_idx = []\n",
    "    melspec_data_of_windows = []\n",
    "    for i in range(int(librosa.core.get_duration(y)//size_of_window)):\n",
    "        windows_of_melspec_idx.append(slice(*librosa.time_to_frames([i*size_of_window, i*size_of_window+ size_of_window], sr=sr, hop_length=hop_length)))\n",
    "    #windows_of_melspec_idx.append(slice(librosa.time_to_frames(i*10+ 10),S_DB.shape[1])) # add last window even if shorter than 10 secs, will need padding\n",
    "    for slice_idx in windows_of_melspec_idx:\n",
    "        windows_item = {}\n",
    "        windows_item[\"song\"] = song\n",
    "        windows_item[\"window_idx\"] = slice_idx\n",
    "        w_d = S_DB[:,slice_idx][:,:math.floor((22050/512)*size_of_window)]\n",
    "        windows_item[\"data\"] = w_d\n",
    "        melspec_data_of_windows.append(w_d)\n",
    "        window_items_list.append(windows_item)\n",
    "        \n",
    "        sec_start = librosa.core.frames_to_time(slice_idx.start)\n",
    "        loc_start = sec_start * sr\n",
    "        loc_end = (sec_start + size_of_window) * sr\n",
    "        windows_item[\"loc_start\"] = loc_start\n",
    "        windows_item[\"loc_end\"] = loc_end\n",
    "        windows_item[\"song_snippet\"] = y[int(loc_start):int(loc_end)]\n",
    "        windows_item[\"sr\"] = sr\n",
    "        \n",
    "    #if ind == 10:\n",
    "    #    break\n"
   ]
  },
  {
   "cell_type": "code",
   "execution_count": 5,
   "metadata": {},
   "outputs": [],
   "source": [
    "windows_df = pd.DataFrame(window_items_list)"
   ]
  },
  {
   "cell_type": "code",
   "execution_count": 6,
   "metadata": {},
   "outputs": [],
   "source": [
    "del window_items_list"
   ]
  },
  {
   "cell_type": "markdown",
   "metadata": {},
   "source": [
    "# Windows by onsets"
   ]
  },
  {
   "cell_type": "code",
   "execution_count": 17,
   "metadata": {},
   "outputs": [],
   "source": [
    "taylor_df_path = \"../Google Drive/datahack2019/VideoThat/sandbox/data/taylor_df.pkl\"\n",
    "with open(taylor_df_path, 'rb') as handle:\n",
    "    taylor_df = pickle.load(handle)"
   ]
  },
  {
   "cell_type": "code",
   "execution_count": 49,
   "metadata": {},
   "outputs": [],
   "source": [
    "def get_dir_path(name):\n",
    "    res = [x for x in sub_dirs if x.endswith(name)]\n",
    "    if len(res) == 1:\n",
    "        for r, d, f in os.walk(res[0]):\n",
    "            song_res = []\n",
    "            for file in f:\n",
    "                if '.mp3' in file:\n",
    "                    song_res.append(os.path.join(r, file))\n",
    "    if len(song_res) == 1:\n",
    "        return song_res[0]\n",
    "    else:\n",
    "        print(\"error , \" + len(song_res))\n",
    "        \n",
    "taylor_df[\"song_path\"] = taylor_df.name.apply(get_dir_path)"
   ]
  },
  {
   "cell_type": "code",
   "execution_count": 55,
   "metadata": {},
   "outputs": [
    {
     "data": {
      "text/html": [
       "<div>\n",
       "<style scoped>\n",
       "    .dataframe tbody tr th:only-of-type {\n",
       "        vertical-align: middle;\n",
       "    }\n",
       "\n",
       "    .dataframe tbody tr th {\n",
       "        vertical-align: top;\n",
       "    }\n",
       "\n",
       "    .dataframe thead th {\n",
       "        text-align: right;\n",
       "    }\n",
       "</style>\n",
       "<table border=\"1\" class=\"dataframe\">\n",
       "  <thead>\n",
       "    <tr style=\"text-align: right;\">\n",
       "      <th></th>\n",
       "      <th>name</th>\n",
       "      <th>song_wave</th>\n",
       "      <th>scene_start_times_sec</th>\n",
       "      <th>onset_times_sec</th>\n",
       "      <th>song_path</th>\n",
       "    </tr>\n",
       "  </thead>\n",
       "  <tbody>\n",
       "    <tr>\n",
       "      <th>0</th>\n",
       "      <td>Taylor Swift - White Horse-D1Xr-JFLxik</td>\n",
       "      <td>[0.0, 0.0, 0.0, 0.0, 0.0, 0.0, 0.0, 0.0, 0.0, ...</td>\n",
       "      <td>0        0.000\n",
       "1        0.667\n",
       "2        3.587\n",
       "3...</td>\n",
       "      <td>[0.6965986394557823, 1.3467573696145125, 1.648...</td>\n",
       "      <td>/Users/ydaihes/Google Drive/datahack2019/taylo...</td>\n",
       "    </tr>\n",
       "    <tr>\n",
       "      <th>1</th>\n",
       "      <td>Taylor Swift - The Story Of Us-nN6VR92V70M</td>\n",
       "      <td>[0.0, 0.0, 0.0, 0.0, 0.0, 0.0, 0.0, 0.0, 0.0, ...</td>\n",
       "      <td>0        0.000\n",
       "1        0.500\n",
       "2        1.417\n",
       "3...</td>\n",
       "      <td>[0.6501587301587302, 0.905578231292517, 1.0913...</td>\n",
       "      <td>/Users/ydaihes/Google Drive/datahack2019/taylo...</td>\n",
       "    </tr>\n",
       "    <tr>\n",
       "      <th>2</th>\n",
       "      <td>Taylor Swift - Delicate-tCXGJQYZ9JA</td>\n",
       "      <td>[0.0, 0.0, 0.0, 0.0, 0.0, 0.0, 0.0, 0.0, 0.0, ...</td>\n",
       "      <td>0       0.000\n",
       "1       3.045\n",
       "2       6.715\n",
       "3   ...</td>\n",
       "      <td>[3.8312925170068026, 4.040272108843538, 4.2028...</td>\n",
       "      <td>/Users/ydaihes/Google Drive/datahack2019/taylo...</td>\n",
       "    </tr>\n",
       "    <tr>\n",
       "      <th>3</th>\n",
       "      <td>Taylor Swift - Style--CmadmM5cOk</td>\n",
       "      <td>[0.0, 0.0, 0.0, 0.0, 0.0, 0.0, 0.0, 0.0, 0.0, ...</td>\n",
       "      <td>0        0.000\n",
       "1        7.424\n",
       "2        9.259\n",
       "3...</td>\n",
       "      <td>[0.11609977324263039, 10.077460317460318, 10.4...</td>\n",
       "      <td>/Users/ydaihes/Google Drive/datahack2019/taylo...</td>\n",
       "    </tr>\n",
       "    <tr>\n",
       "      <th>4</th>\n",
       "      <td>Taylor Swift - ME! (feat. Brendon Urie of Pani...</td>\n",
       "      <td>[0.0, 0.0, 0.0, 0.0, 0.0, 0.0, 0.0, 0.0, 0.0, ...</td>\n",
       "      <td>0       0.000\n",
       "1       0.500\n",
       "2       5.255\n",
       "3   ...</td>\n",
       "      <td>[17.29886621315193, 19.11002267573696, 19.6208...</td>\n",
       "      <td>/Users/ydaihes/Google Drive/datahack2019/taylo...</td>\n",
       "    </tr>\n",
       "  </tbody>\n",
       "</table>\n",
       "</div>"
      ],
      "text/plain": [
       "                                                name  \\\n",
       "0             Taylor Swift - White Horse-D1Xr-JFLxik   \n",
       "1         Taylor Swift - The Story Of Us-nN6VR92V70M   \n",
       "2                Taylor Swift - Delicate-tCXGJQYZ9JA   \n",
       "3                   Taylor Swift - Style--CmadmM5cOk   \n",
       "4  Taylor Swift - ME! (feat. Brendon Urie of Pani...   \n",
       "\n",
       "                                           song_wave  \\\n",
       "0  [0.0, 0.0, 0.0, 0.0, 0.0, 0.0, 0.0, 0.0, 0.0, ...   \n",
       "1  [0.0, 0.0, 0.0, 0.0, 0.0, 0.0, 0.0, 0.0, 0.0, ...   \n",
       "2  [0.0, 0.0, 0.0, 0.0, 0.0, 0.0, 0.0, 0.0, 0.0, ...   \n",
       "3  [0.0, 0.0, 0.0, 0.0, 0.0, 0.0, 0.0, 0.0, 0.0, ...   \n",
       "4  [0.0, 0.0, 0.0, 0.0, 0.0, 0.0, 0.0, 0.0, 0.0, ...   \n",
       "\n",
       "                               scene_start_times_sec  \\\n",
       "0  0        0.000\n",
       "1        0.667\n",
       "2        3.587\n",
       "3...   \n",
       "1  0        0.000\n",
       "1        0.500\n",
       "2        1.417\n",
       "3...   \n",
       "2  0       0.000\n",
       "1       3.045\n",
       "2       6.715\n",
       "3   ...   \n",
       "3  0        0.000\n",
       "1        7.424\n",
       "2        9.259\n",
       "3...   \n",
       "4  0       0.000\n",
       "1       0.500\n",
       "2       5.255\n",
       "3   ...   \n",
       "\n",
       "                                     onset_times_sec  \\\n",
       "0  [0.6965986394557823, 1.3467573696145125, 1.648...   \n",
       "1  [0.6501587301587302, 0.905578231292517, 1.0913...   \n",
       "2  [3.8312925170068026, 4.040272108843538, 4.2028...   \n",
       "3  [0.11609977324263039, 10.077460317460318, 10.4...   \n",
       "4  [17.29886621315193, 19.11002267573696, 19.6208...   \n",
       "\n",
       "                                           song_path  \n",
       "0  /Users/ydaihes/Google Drive/datahack2019/taylo...  \n",
       "1  /Users/ydaihes/Google Drive/datahack2019/taylo...  \n",
       "2  /Users/ydaihes/Google Drive/datahack2019/taylo...  \n",
       "3  /Users/ydaihes/Google Drive/datahack2019/taylo...  \n",
       "4  /Users/ydaihes/Google Drive/datahack2019/taylo...  "
      ]
     },
     "execution_count": 55,
     "metadata": {},
     "output_type": "execute_result"
    }
   ],
   "source": [
    "taylor_df.head()"
   ]
  },
  {
   "cell_type": "code",
   "execution_count": 97,
   "metadata": {},
   "outputs": [],
   "source": [
    "def pad_zeros(arr, expected_len, hight):\n",
    "    return np.concatenate((arr, np.zeros((hight, expected_len - np.shape(arr)[1]))), axis=1)"
   ]
  },
  {
   "cell_type": "code",
   "execution_count": 329,
   "metadata": {},
   "outputs": [
    {
     "name": "stderr",
     "output_type": "stream",
     "text": [
      "\r",
      "  0%|          | 0/30 [00:00<?, ?it/s]"
     ]
    },
    {
     "name": "stdout",
     "output_type": "stream",
     "text": [
      "/Users/ydaihes/Google Drive/datahack2019/taylor/Taylor Swift - White Horse-D1Xr-JFLxik/Taylor Swift - White Horse-D1Xr-JFLxik.mkv.mp3\n"
     ]
    },
    {
     "name": "stderr",
     "output_type": "stream",
     "text": [
      "\r",
      "  3%|▎         | 1/30 [00:09<04:39,  9.63s/it]"
     ]
    },
    {
     "name": "stdout",
     "output_type": "stream",
     "text": [
      "/Users/ydaihes/Google Drive/datahack2019/taylor/Taylor Swift - The Story Of Us-nN6VR92V70M/Taylor Swift - The Story Of Us-nN6VR92V70M.mkv.mp3\n"
     ]
    },
    {
     "name": "stderr",
     "output_type": "stream",
     "text": [
      "\r",
      "  7%|▋         | 2/30 [00:19<04:38,  9.95s/it]"
     ]
    },
    {
     "name": "stdout",
     "output_type": "stream",
     "text": [
      "/Users/ydaihes/Google Drive/datahack2019/taylor/Taylor Swift - Delicate-tCXGJQYZ9JA/Taylor Swift - Delicate-tCXGJQYZ9JA.mkv.mp3\n"
     ]
    },
    {
     "name": "stderr",
     "output_type": "stream",
     "text": [
      "\r",
      " 10%|█         | 3/30 [00:29<04:23,  9.77s/it]"
     ]
    },
    {
     "name": "stdout",
     "output_type": "stream",
     "text": [
      "/Users/ydaihes/Google Drive/datahack2019/taylor/Taylor Swift - Style--CmadmM5cOk/Taylor Swift - Style--CmadmM5cOk.webm.mp3\n"
     ]
    },
    {
     "name": "stderr",
     "output_type": "stream",
     "text": [
      "\r",
      " 13%|█▎        | 4/30 [00:39<04:13,  9.76s/it]"
     ]
    },
    {
     "name": "stdout",
     "output_type": "stream",
     "text": [
      "/Users/ydaihes/Google Drive/datahack2019/taylor/Taylor Swift - ME! (feat. Brendon Urie of Panic! At The Disco)-FuXNumBwDOM/Taylor Swift - ME! (feat. Brendon Urie of Panic! At The Disco)-FuXNumBwDOM.mkv.mp3\n"
     ]
    },
    {
     "name": "stderr",
     "output_type": "stream",
     "text": [
      "\r",
      " 17%|█▋        | 5/30 [00:49<04:06,  9.86s/it]"
     ]
    },
    {
     "name": "stdout",
     "output_type": "stream",
     "text": [
      "/Users/ydaihes/Google Drive/datahack2019/taylor/Taylor Swift - Mine-XPBwXKgDTdE/Taylor Swift - Mine-XPBwXKgDTdE.mkv.mp3\n"
     ]
    },
    {
     "name": "stderr",
     "output_type": "stream",
     "text": [
      "\r",
      " 20%|██        | 6/30 [00:58<03:53,  9.74s/it]"
     ]
    },
    {
     "name": "stdout",
     "output_type": "stream",
     "text": [
      "/Users/ydaihes/Google Drive/datahack2019/taylor/Taylor Swift - Out Of The Woods-JLf9q36UsBk/Taylor Swift - Out Of The Woods-JLf9q36UsBk.mkv.mp3\n"
     ]
    },
    {
     "name": "stderr",
     "output_type": "stream",
     "text": [
      "\r",
      " 23%|██▎       | 7/30 [01:08<03:45,  9.79s/it]"
     ]
    },
    {
     "name": "stdout",
     "output_type": "stream",
     "text": [
      "/Users/ydaihes/Google Drive/datahack2019/taylor/Taylor Swift - Mean-jYa1eI1hpDE/Taylor Swift - Mean-jYa1eI1hpDE.mkv.mp3\n"
     ]
    },
    {
     "name": "stderr",
     "output_type": "stream",
     "text": [
      "\r",
      " 27%|██▋       | 8/30 [01:18<03:34,  9.75s/it]"
     ]
    },
    {
     "name": "stdout",
     "output_type": "stream",
     "text": [
      "/Users/ydaihes/Google Drive/datahack2019/taylor/Taylor Swift - Fearless-ptSjNWnzpjg/Taylor Swift - Fearless-ptSjNWnzpjg.mkv.mp3\n"
     ]
    },
    {
     "name": "stderr",
     "output_type": "stream",
     "text": [
      "\r",
      " 30%|███       | 9/30 [01:27<03:24,  9.75s/it]"
     ]
    },
    {
     "name": "stdout",
     "output_type": "stream",
     "text": [
      "/Users/ydaihes/Google Drive/datahack2019/taylor/Taylor Swift - …Ready For It-wIft-t-MQuE/Taylor Swift - …Ready For It-wIft-t-MQuE.mkv.mp3\n"
     ]
    },
    {
     "name": "stderr",
     "output_type": "stream",
     "text": [
      "\r",
      " 33%|███▎      | 10/30 [01:35<03:11,  9.59s/it]"
     ]
    },
    {
     "name": "stdout",
     "output_type": "stream",
     "text": [
      "/Users/ydaihes/Google Drive/datahack2019/taylor/Taylor Swift - We Are Never Ever Getting Back Together-WA4iX5D9Z64/Taylor Swift - We Are Never Ever Getting Back Together-WA4iX5D9Z64.mkv.mp3\n"
     ]
    },
    {
     "name": "stderr",
     "output_type": "stream",
     "text": [
      "\r",
      " 37%|███▋      | 11/30 [01:44<03:00,  9.49s/it]"
     ]
    },
    {
     "name": "stdout",
     "output_type": "stream",
     "text": [
      "/Users/ydaihes/Google Drive/datahack2019/taylor/Taylor Swift - You Need To Calm Down-Dkk9gvTmCXY/Taylor Swift - You Need To Calm Down-Dkk9gvTmCXY.mkv.mp3\n"
     ]
    },
    {
     "name": "stderr",
     "output_type": "stream",
     "text": [
      "\r",
      " 40%|████      | 12/30 [01:52<02:48,  9.38s/it]"
     ]
    },
    {
     "name": "stdout",
     "output_type": "stream",
     "text": [
      "/Users/ydaihes/Google Drive/datahack2019/taylor/Taylor Swift - Look What You Made Me Do-3tmd-ClpJxA/Taylor Swift - Look What You Made Me Do-3tmd-ClpJxA.mkv.mp3\n"
     ]
    },
    {
     "name": "stderr",
     "output_type": "stream",
     "text": [
      "\r",
      " 43%|████▎     | 13/30 [02:02<02:40,  9.42s/it]"
     ]
    },
    {
     "name": "stdout",
     "output_type": "stream",
     "text": [
      "/Users/ydaihes/Google Drive/datahack2019/taylor/Taylor Swift - Blank Space-e-ORhEE9VVg/Taylor Swift - Blank Space-e-ORhEE9VVg.webm.mp3\n"
     ]
    },
    {
     "name": "stderr",
     "output_type": "stream",
     "text": [
      "\r",
      " 47%|████▋     | 14/30 [02:13<02:32,  9.52s/it]"
     ]
    },
    {
     "name": "stdout",
     "output_type": "stream",
     "text": [
      "/Users/ydaihes/Google Drive/datahack2019/taylor/Taylor Swift - 22-AgFeZr5ptV8/Taylor Swift - 22-AgFeZr5ptV8.mkv.mp3\n"
     ]
    },
    {
     "name": "stderr",
     "output_type": "stream",
     "text": [
      "\r",
      " 50%|█████     | 15/30 [02:23<02:23,  9.56s/it]"
     ]
    },
    {
     "name": "stdout",
     "output_type": "stream",
     "text": [
      "/Users/ydaihes/Google Drive/datahack2019/taylor/Taylor Swift - Sparks Fly-oKar-tF__ac/Taylor Swift - Sparks Fly-oKar-tF__ac.mkv.mp3\n"
     ]
    },
    {
     "name": "stderr",
     "output_type": "stream",
     "text": [
      "\r",
      " 53%|█████▎    | 16/30 [02:34<02:15,  9.64s/it]"
     ]
    },
    {
     "name": "stdout",
     "output_type": "stream",
     "text": [
      "/Users/ydaihes/Google Drive/datahack2019/taylor/Taylor Swift - I Knew You Were Trouble-vNoKguSdy4Y/Taylor Swift - I Knew You Were Trouble-vNoKguSdy4Y.webm.mp3\n"
     ]
    },
    {
     "name": "stderr",
     "output_type": "stream",
     "text": [
      "\r",
      " 57%|█████▋    | 17/30 [02:48<02:09,  9.94s/it]"
     ]
    },
    {
     "name": "stdout",
     "output_type": "stream",
     "text": [
      "/Users/ydaihes/Google Drive/datahack2019/taylor/Taylor Swift - You Belong With Me-VuNIsY6JdUw/Taylor Swift - You Belong With Me-VuNIsY6JdUw.mkv.mp3\n"
     ]
    },
    {
     "name": "stderr",
     "output_type": "stream",
     "text": [
      "\r",
      " 60%|██████    | 18/30 [02:58<01:58,  9.91s/it]"
     ]
    },
    {
     "name": "stdout",
     "output_type": "stream",
     "text": [
      "/Users/ydaihes/Google Drive/datahack2019/taylor/Taylor Swift - Teardrops On My Guitar-xKCek6_dB0M/Taylor Swift - Teardrops On My Guitar-xKCek6_dB0M.mkv.mp3\n"
     ]
    },
    {
     "name": "stderr",
     "output_type": "stream",
     "text": [
      "\r",
      " 63%|██████▎   | 19/30 [03:07<01:48,  9.86s/it]"
     ]
    },
    {
     "name": "stdout",
     "output_type": "stream",
     "text": [
      "/Users/ydaihes/Google Drive/datahack2019/taylor/Taylor Swift - New Romantics-wyK7YuwUWsU/Taylor Swift - New Romantics-wyK7YuwUWsU.mkv.mp3\n"
     ]
    },
    {
     "name": "stderr",
     "output_type": "stream",
     "text": [
      "\r",
      " 67%|██████▋   | 20/30 [03:18<01:39,  9.93s/it]"
     ]
    },
    {
     "name": "stdout",
     "output_type": "stream",
     "text": [
      "/Users/ydaihes/Google Drive/datahack2019/taylor/Taylor Swift - Fifteen-Pb-K2tXWK4w/Taylor Swift - Fifteen-Pb-K2tXWK4w.mkv.mp3\n"
     ]
    },
    {
     "name": "stderr",
     "output_type": "stream",
     "text": [
      "\r",
      " 70%|███████   | 21/30 [03:32<01:30, 10.10s/it]"
     ]
    },
    {
     "name": "stdout",
     "output_type": "stream",
     "text": [
      "/Users/ydaihes/Google Drive/datahack2019/taylor/Taylor Swift - Wildest Dreams-IdneKLhsWOQ/Taylor Swift - Wildest Dreams-IdneKLhsWOQ.mkv.mp3\n"
     ]
    },
    {
     "name": "stderr",
     "output_type": "stream",
     "text": [
      "\r",
      " 73%|███████▎  | 22/30 [03:41<01:20, 10.09s/it]"
     ]
    },
    {
     "name": "stdout",
     "output_type": "stream",
     "text": [
      "/Users/ydaihes/Google Drive/datahack2019/taylor/Taylor Swift - Ours-LZ34LlaIk88/Taylor Swift - Ours-LZ34LlaIk88.mkv.mp3\n"
     ]
    },
    {
     "name": "stderr",
     "output_type": "stream",
     "text": [
      "\r",
      " 77%|███████▋  | 23/30 [03:52<01:10, 10.11s/it]"
     ]
    },
    {
     "name": "stdout",
     "output_type": "stream",
     "text": [
      "/Users/ydaihes/Google Drive/datahack2019/taylor/Taylor Swift - Begin Again-cMPEd8m79Hw/Taylor Swift - Begin Again-cMPEd8m79Hw.mkv.mp3\n"
     ]
    },
    {
     "name": "stderr",
     "output_type": "stream",
     "text": [
      "\r",
      " 80%|████████  | 24/30 [04:16<01:04, 10.67s/it]"
     ]
    },
    {
     "name": "stdout",
     "output_type": "stream",
     "text": [
      "/Users/ydaihes/Google Drive/datahack2019/taylor/Taylor Swift - Love Story-8xg3vE8Ie_E/Taylor Swift - Love Story-8xg3vE8Ie_E.mkv.mp3\n"
     ]
    },
    {
     "name": "stderr",
     "output_type": "stream",
     "text": [
      "\r",
      " 83%|████████▎ | 25/30 [04:46<00:57, 11.47s/it]"
     ]
    },
    {
     "name": "stdout",
     "output_type": "stream",
     "text": [
      "/Users/ydaihes/Google Drive/datahack2019/taylor/Taylor Swift - End Game ft. Ed Sheeran, Future-dfnCAmr569k/Taylor Swift - End Game ft. Ed Sheeran, Future-dfnCAmr569k.mkv.mp3\n"
     ]
    },
    {
     "name": "stderr",
     "output_type": "stream",
     "text": [
      "\r",
      " 87%|████████▋ | 26/30 [05:16<00:48, 12.19s/it]"
     ]
    },
    {
     "name": "stdout",
     "output_type": "stream",
     "text": [
      "/Users/ydaihes/Google Drive/datahack2019/taylor/Taylor Swift - Everything Has Changed ft. Ed Sheeran-w1oM3kQpXRo/Taylor Swift - Everything Has Changed ft. Ed Sheeran-w1oM3kQpXRo.mkv.mp3\n"
     ]
    },
    {
     "name": "stderr",
     "output_type": "stream",
     "text": [
      "\r",
      " 90%|█████████ | 27/30 [05:30<00:36, 12.24s/it]"
     ]
    },
    {
     "name": "stdout",
     "output_type": "stream",
     "text": [
      "/Users/ydaihes/Google Drive/datahack2019/taylor/Taylor Swift - Shake It Off-nfWlot6h_JM/Taylor Swift - Shake It Off-nfWlot6h_JM.mkv.mp3\n"
     ]
    },
    {
     "name": "stderr",
     "output_type": "stream",
     "text": [
      "\r",
      " 93%|█████████▎| 28/30 [05:40<00:24, 12.17s/it]"
     ]
    },
    {
     "name": "stdout",
     "output_type": "stream",
     "text": [
      "/Users/ydaihes/Google Drive/datahack2019/taylor/Taylor Swift - Back To December-QUwxKWT6m7U/Taylor Swift - Back To December-QUwxKWT6m7U.mkv.mp3\n"
     ]
    },
    {
     "name": "stderr",
     "output_type": "stream",
     "text": [
      "\r",
      " 97%|█████████▋| 29/30 [05:53<00:12, 12.18s/it]"
     ]
    },
    {
     "name": "stdout",
     "output_type": "stream",
     "text": [
      "/Users/ydaihes/Google Drive/datahack2019/taylor/Taylor Swift - Picture To Burn-yCMqcFAigRg/Taylor Swift - Picture To Burn-yCMqcFAigRg.mkv.mp3\n"
     ]
    },
    {
     "name": "stderr",
     "output_type": "stream",
     "text": [
      "100%|██████████| 30/30 [06:01<00:00, 12.06s/it]\n"
     ]
    }
   ],
   "source": [
    "window_items_list = []\n",
    "for taylor_df_row in tqdm(list(taylor_df.itertuples())):\n",
    "    y, sr = librosa.load(taylor_df_row.song_path)\n",
    "\n",
    "    #print(taylor_df_row.song_path)\n",
    "    \n",
    "    n_fft = 2048\n",
    "    hop_length = 512\n",
    "    n_mels = 128\n",
    "    S = librosa.feature.melspectrogram(y, sr=sr, n_fft=n_fft, hop_length=hop_length, n_mels=n_mels)\n",
    "    S_DB = librosa.power_to_db(S, ref=np.max)\n",
    "\n",
    "    current_Secs = taylor_df_row.scene_start_times_sec\n",
    "    windows_of_melspec_idx = []\n",
    "    for i in range(0, len(current_Secs) - 1):\n",
    "        windows_of_melspec_idx.append(slice(*librosa.time_to_frames([current_Secs[i], current_Secs[i+1]], sr=sr, hop_length=hop_length)))\n",
    "    for slice_idx in windows_of_melspec_idx:\n",
    "        windows_item = {}\n",
    "        windows_item[\"song\"] = taylor_df_row.song_path\n",
    "        windows_item[\"window_idx\"] = slice_idx\n",
    "        w_d = S_DB[:,slice_idx]#[:,:math.floor((22050/512)*size_of_window)]\n",
    "        windows_item[\"data\"] = w_d\n",
    "\n",
    "        loc_start = librosa.core.frames_to_time(slice_idx.start) * sr\n",
    "        loc_end = librosa.core.frames_to_time(slice_idx.stop) * sr\n",
    "        windows_item[\"loc_start\"] = loc_start\n",
    "        windows_item[\"loc_end\"] = loc_end\n",
    "        windows_item[\"song_snippet\"] = y[int(loc_start):int(loc_end)]\n",
    "        windows_item[\"sr\"] = sr\n",
    "\n",
    "        window_items_list.append(windows_item)"
   ]
  },
  {
   "cell_type": "code",
   "execution_count": 331,
   "metadata": {},
   "outputs": [],
   "source": [
    "sub_windows_df = windows_df[windows_df.data.apply(lambda x: np.shape(x)[1] < 647)]"
   ]
  },
  {
   "cell_type": "code",
   "execution_count": 332,
   "metadata": {},
   "outputs": [
    {
     "data": {
      "text/plain": [
       "3709"
      ]
     },
     "execution_count": 332,
     "metadata": {},
     "output_type": "execute_result"
    }
   ],
   "source": [
    "len(sub_windows_df)"
   ]
  },
  {
   "cell_type": "code",
   "execution_count": 333,
   "metadata": {},
   "outputs": [
    {
     "name": "stderr",
     "output_type": "stream",
     "text": [
      "/Users/ydaihes/anaconda3/lib/python3.6/site-packages/ipykernel_launcher.py:1: SettingWithCopyWarning: \n",
      "A value is trying to be set on a copy of a slice from a DataFrame.\n",
      "Try using .loc[row_indexer,col_indexer] = value instead\n",
      "\n",
      "See the caveats in the documentation: http://pandas.pydata.org/pandas-docs/stable/indexing.html#indexing-view-versus-copy\n",
      "  \"\"\"Entry point for launching an IPython kernel.\n"
     ]
    }
   ],
   "source": [
    "sub_windows_df[\"padded_data\"] = sub_windows_df.data.apply(lambda x: pad_zeros(x, 647, x.shape[0]))"
   ]
  },
  {
   "cell_type": "code",
   "execution_count": 334,
   "metadata": {},
   "outputs": [
    {
     "name": "stderr",
     "output_type": "stream",
     "text": [
      "/Users/ydaihes/anaconda3/lib/python3.6/site-packages/ipykernel_launcher.py:1: SettingWithCopyWarning: \n",
      "A value is trying to be set on a copy of a slice from a DataFrame.\n",
      "Try using .loc[row_indexer,col_indexer] = value instead\n",
      "\n",
      "See the caveats in the documentation: http://pandas.pydata.org/pandas-docs/stable/indexing.html#indexing-view-versus-copy\n",
      "  \"\"\"Entry point for launching an IPython kernel.\n"
     ]
    }
   ],
   "source": [
    "sub_windows_df[\"duration\"] = windows_df.apply(lambda x: x.loc_end - x.loc_start, axis=1)"
   ]
  },
  {
   "cell_type": "code",
   "execution_count": 335,
   "metadata": {},
   "outputs": [],
   "source": [
    "def get_tempo(df_row):\n",
    "    onset_env = librosa.onset.onset_strength(df_row.song_snippet)\n",
    "    tempo = librosa.beat.tempo(onset_envelope=onset_env, sr=df_row.sr)\n"
   ]
  },
  {
   "cell_type": "markdown",
   "metadata": {},
   "source": [
    "# Clustering"
   ]
  },
  {
   "cell_type": "code",
   "execution_count": 343,
   "metadata": {},
   "outputs": [],
   "source": [
    "df_to_cluster = sub_windows_df[sub_windows_df.duration > 40000]"
   ]
  },
  {
   "cell_type": "code",
   "execution_count": 344,
   "metadata": {},
   "outputs": [
    {
     "data": {
      "text/plain": [
       "(1147, 82816)"
      ]
     },
     "execution_count": 344,
     "metadata": {},
     "output_type": "execute_result"
    }
   ],
   "source": [
    "n_windows, n_hops, n_frames_in_window_size = np.array(list(df_to_cluster.padded_data)).shape\n",
    "d2_train_dataset = np.array(list(df_to_cluster.padded_data)).reshape((n_windows,n_hops*n_frames_in_window_size))\n",
    "d2_train_dataset.shape"
   ]
  },
  {
   "cell_type": "code",
   "execution_count": 349,
   "metadata": {},
   "outputs": [
    {
     "data": {
      "text/plain": [
       " 0     1031\n",
       "-1       91\n",
       " 4        4\n",
       " 6        3\n",
       " 5        3\n",
       " 3        3\n",
       " 10       2\n",
       " 9        2\n",
       " 8        2\n",
       " 7        2\n",
       " 2        2\n",
       " 1        2\n",
       "Name: DBSCAN_cluster, dtype: int64"
      ]
     },
     "execution_count": 349,
     "metadata": {},
     "output_type": "execute_result"
    }
   ],
   "source": [
    "hyper_params = {\n",
    "    \"epsilon\" : 2500,\n",
    "    \"min_samples\" : 2,\n",
    "    #\"min_cluster_num\" : \n",
    "}\n",
    "\n",
    "db = DBSCAN(eps = hyper_params[\"epsilon\"], min_samples = hyper_params[\"min_samples\"], metric='euclidean',algorithm='brute').fit(d2_train_dataset)\n",
    "core_samples_mask = np.zeros_like(db.labels_, dtype=bool)\n",
    "core_samples_mask[db.core_sample_indices_] = True\n",
    "labels = db.labels_ \n",
    "\n",
    "if \"DBSCAN_cluster\" in df_to_cluster.columns:\n",
    "        del df_to_cluster[\"DBSCAN_cluster\"]\n",
    "        \n",
    "df_to_cluster.insert(len(df_to_cluster.columns), \"DBSCAN_cluster\", labels)\n",
    "df_to_cluster.DBSCAN_cluster.value_counts()"
   ]
  },
  {
   "cell_type": "code",
   "execution_count": 350,
   "metadata": {},
   "outputs": [
    {
     "data": {
      "text/html": [
       "<div>\n",
       "<style scoped>\n",
       "    .dataframe tbody tr th:only-of-type {\n",
       "        vertical-align: middle;\n",
       "    }\n",
       "\n",
       "    .dataframe tbody tr th {\n",
       "        vertical-align: top;\n",
       "    }\n",
       "\n",
       "    .dataframe thead th {\n",
       "        text-align: right;\n",
       "    }\n",
       "</style>\n",
       "<table border=\"1\" class=\"dataframe\">\n",
       "  <thead>\n",
       "    <tr style=\"text-align: right;\">\n",
       "      <th></th>\n",
       "      <th>data</th>\n",
       "      <th>loc_end</th>\n",
       "      <th>loc_start</th>\n",
       "      <th>song</th>\n",
       "      <th>song_snippet</th>\n",
       "      <th>sr</th>\n",
       "      <th>window_idx</th>\n",
       "      <th>padded_data</th>\n",
       "      <th>duration</th>\n",
       "      <th>DBSCAN_cluster</th>\n",
       "    </tr>\n",
       "  </thead>\n",
       "  <tbody>\n",
       "    <tr>\n",
       "      <th>428</th>\n",
       "      <td>[[-35.12468, -30.685572, -30.445894, -31.22792...</td>\n",
       "      <td>2434048.0</td>\n",
       "      <td>2249216.0</td>\n",
       "      <td>/Users/ydaihes/Google Drive/datahack2019/taylo...</td>\n",
       "      <td>[0.168077, 0.12736185, 0.10891143, 0.07502436,...</td>\n",
       "      <td>22050</td>\n",
       "      <td>slice(4393, 4754, None)</td>\n",
       "      <td>[[-35.12467956542969, -30.685571670532227, -30...</td>\n",
       "      <td>184832.0</td>\n",
       "      <td>4</td>\n",
       "    </tr>\n",
       "    <tr>\n",
       "      <th>1163</th>\n",
       "      <td>[[-18.43669, -18.825489, -18.933107, -20.33292...</td>\n",
       "      <td>4244992.0</td>\n",
       "      <td>4061696.0</td>\n",
       "      <td>/Users/ydaihes/Google Drive/datahack2019/taylo...</td>\n",
       "      <td>[0.1454173, 0.18454534, 0.1534005, 0.22488262,...</td>\n",
       "      <td>22050</td>\n",
       "      <td>slice(7933, 8291, None)</td>\n",
       "      <td>[[-18.436689376831055, -18.825489044189453, -1...</td>\n",
       "      <td>183296.0</td>\n",
       "      <td>4</td>\n",
       "    </tr>\n",
       "    <tr>\n",
       "      <th>1892</th>\n",
       "      <td>[[-40.1942, -44.050034, -49.138733, -42.133026...</td>\n",
       "      <td>5322752.0</td>\n",
       "      <td>5140480.0</td>\n",
       "      <td>/Users/ydaihes/Google Drive/datahack2019/taylo...</td>\n",
       "      <td>[0.08989131, 0.07891475, 0.024642197, -0.00739...</td>\n",
       "      <td>22050</td>\n",
       "      <td>slice(10040, 10396, None)</td>\n",
       "      <td>[[-40.19419860839844, -44.05003356933594, -49....</td>\n",
       "      <td>182272.0</td>\n",
       "      <td>4</td>\n",
       "    </tr>\n",
       "    <tr>\n",
       "      <th>3191</th>\n",
       "      <td>[[-37.726982, -35.099087, -41.611774, -38.9925...</td>\n",
       "      <td>1456640.0</td>\n",
       "      <td>1276416.0</td>\n",
       "      <td>/Users/ydaihes/Google Drive/datahack2019/taylo...</td>\n",
       "      <td>[0.16875245, 0.16259749, 0.06459695, 0.0495665...</td>\n",
       "      <td>22050</td>\n",
       "      <td>slice(2493, 2845, None)</td>\n",
       "      <td>[[-37.72698211669922, -35.09908676147461, -41....</td>\n",
       "      <td>180224.0</td>\n",
       "      <td>4</td>\n",
       "    </tr>\n",
       "  </tbody>\n",
       "</table>\n",
       "</div>"
      ],
      "text/plain": [
       "                                                   data    loc_end  loc_start  \\\n",
       "428   [[-35.12468, -30.685572, -30.445894, -31.22792...  2434048.0  2249216.0   \n",
       "1163  [[-18.43669, -18.825489, -18.933107, -20.33292...  4244992.0  4061696.0   \n",
       "1892  [[-40.1942, -44.050034, -49.138733, -42.133026...  5322752.0  5140480.0   \n",
       "3191  [[-37.726982, -35.099087, -41.611774, -38.9925...  1456640.0  1276416.0   \n",
       "\n",
       "                                                   song  \\\n",
       "428   /Users/ydaihes/Google Drive/datahack2019/taylo...   \n",
       "1163  /Users/ydaihes/Google Drive/datahack2019/taylo...   \n",
       "1892  /Users/ydaihes/Google Drive/datahack2019/taylo...   \n",
       "3191  /Users/ydaihes/Google Drive/datahack2019/taylo...   \n",
       "\n",
       "                                           song_snippet     sr  \\\n",
       "428   [0.168077, 0.12736185, 0.10891143, 0.07502436,...  22050   \n",
       "1163  [0.1454173, 0.18454534, 0.1534005, 0.22488262,...  22050   \n",
       "1892  [0.08989131, 0.07891475, 0.024642197, -0.00739...  22050   \n",
       "3191  [0.16875245, 0.16259749, 0.06459695, 0.0495665...  22050   \n",
       "\n",
       "                     window_idx  \\\n",
       "428     slice(4393, 4754, None)   \n",
       "1163    slice(7933, 8291, None)   \n",
       "1892  slice(10040, 10396, None)   \n",
       "3191    slice(2493, 2845, None)   \n",
       "\n",
       "                                            padded_data  duration  \\\n",
       "428   [[-35.12467956542969, -30.685571670532227, -30...  184832.0   \n",
       "1163  [[-18.436689376831055, -18.825489044189453, -1...  183296.0   \n",
       "1892  [[-40.19419860839844, -44.05003356933594, -49....  182272.0   \n",
       "3191  [[-37.72698211669922, -35.09908676147461, -41....  180224.0   \n",
       "\n",
       "      DBSCAN_cluster  \n",
       "428                4  \n",
       "1163               4  \n",
       "1892               4  \n",
       "3191               4  "
      ]
     },
     "execution_count": 350,
     "metadata": {},
     "output_type": "execute_result"
    }
   ],
   "source": [
    "df_to_cluster[df_to_cluster.DBSCAN_cluster == 4]#.iloc[1].song"
   ]
  },
  {
   "cell_type": "code",
   "execution_count": 164,
   "metadata": {},
   "outputs": [],
   "source": [
    "def play_window(df_row):\n",
    "    return ipd.Audio(df_row.song_snippet, rate=df_row.sr)"
   ]
  },
  {
   "cell_type": "code",
   "execution_count": 342,
   "metadata": {},
   "outputs": [
    {
     "data": {
      "text/html": [
       "\n",
       "                <audio controls=\"controls\" >\n",
       "                    <source src=\"data:audio/wav;base64,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\" type=\"audio/wav\" />\n",
       "                    Your browser does not support the audio element.\n",
       "                </audio>\n",
       "              "
      ],
      "text/plain": [
       "<IPython.lib.display.Audio object>"
      ]
     },
     "execution_count": 342,
     "metadata": {},
     "output_type": "execute_result"
    }
   ],
   "source": [
    "play_window(windows_df.iloc[3714])"
   ]
  },
  {
   "cell_type": "code",
   "execution_count": 183,
   "metadata": {},
   "outputs": [
    {
     "data": {
      "text/html": [
       "\n",
       "                <audio controls=\"controls\" >\n",
       "                    <source src=\"data:audio/wav;base64,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\" type=\"audio/wav\" />\n",
       "                    Your browser does not support the audio element.\n",
       "                </audio>\n",
       "              "
      ],
      "text/plain": [
       "<IPython.lib.display.Audio object>"
      ]
     },
     "execution_count": 183,
     "metadata": {},
     "output_type": "execute_result"
    }
   ],
   "source": [
    "play_window(windows_df.iloc[97])"
   ]
  }
 ],
 "metadata": {
  "kernelspec": {
   "display_name": "Python 3",
   "language": "python",
   "name": "python3"
  },
  "language_info": {
   "codemirror_mode": {
    "name": "ipython",
    "version": 3
   },
   "file_extension": ".py",
   "mimetype": "text/x-python",
   "name": "python",
   "nbconvert_exporter": "python",
   "pygments_lexer": "ipython3",
   "version": "3.6.4"
  }
 },
 "nbformat": 4,
 "nbformat_minor": 2
}
