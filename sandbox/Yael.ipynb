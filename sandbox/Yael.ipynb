{
 "cells": [
  {
   "cell_type": "code",
   "execution_count": 9,
   "metadata": {},
   "outputs": [],
   "source": [
    "import librosa\n",
    "import librosa.display\n",
    "import pandas as pd\n",
    "%matplotlib inline\n",
    "import numpy as np\n",
    "from tqdm import tqdm\n",
    "from matplotlib import pyplot as plt\n",
    "tqdm.pandas()\n",
    "from matplotlib import rcParams\n",
    "rcParams['axes.titlepad'] = 20\n",
    "import os\n",
    "from os import path\n",
    "import pickle\n",
    "import math\n",
    "\n",
    "#Clustering\n",
    "from sklearn.cluster import DBSCAN"
   ]
  },
  {
   "cell_type": "markdown",
   "metadata": {},
   "source": [
    "# Play with Librosa"
   ]
  },
  {
   "cell_type": "code",
   "execution_count": null,
   "metadata": {},
   "outputs": [],
   "source": [
    "directory = \"/Users/ydaihes/Google Drive/datahack2019/taylor/\"\n",
    "sub_dirs = [x[0] for x in os.walk(directory)]\n",
    "song_files = []\n",
    "for sub_dir in sub_dirs:\n",
    "    for r, d, f in os.walk(sub_dir):\n",
    "        for file in f:\n",
    "            if '.mp3' in file:\n",
    "                song_files.append(os.path.join(r, file))\n",
    "                \n",
    "song_files = set(song_files)"
   ]
  },
  {
   "cell_type": "code",
   "execution_count": null,
   "metadata": {},
   "outputs": [],
   "source": [
    "size_of_window = 10 #in seconds\n",
    "\n",
    "songs_data = {}\n",
    "only_windows = []\n",
    "for ind,song in enumerate(tqdm(song_files)):\n",
    "    \n",
    "    songs_data[ind] = {}\n",
    "    songs_data[ind][\"path\"] = song\n",
    "    \n",
    "    y, sr = librosa.load(song)\n",
    "    # trim silent edges\n",
    "    trimmed_song, _ = librosa.effects.trim(y)\n",
    "    \n",
    "    n_fft = 2048\n",
    "    hop_length = 512\n",
    "    n_mels = 128\n",
    "    S = librosa.feature.melspectrogram(trimmed_song, sr=sr, n_fft=n_fft, hop_length=hop_length, n_mels=n_mels)\n",
    "    S_DB = librosa.power_to_db(S, ref=np.max)\n",
    "    \n",
    "    windows_of_melspec_idx = []\n",
    "    melspec_data_of_windows = []\n",
    "    for i in range(int(librosa.core.get_duration(trimmed_song)//size_of_window)):\n",
    "        windows_of_melspec_idx.append(slice(*librosa.time_to_frames([i*size_of_window, i*size_of_window+ size_of_window], sr=sr, hop_length=hop_length)))\n",
    "    #windows_of_melspec_idx.append(slice(librosa.time_to_frames(i*10+ 10),S_DB.shape[1])) # add last window even if shorter than 10 secs, will need padding\n",
    "    for slice_idx in windows_of_melspec_idx:\n",
    "        melspec_data_of_windows.append(S_DB[:,slice_idx][:,:math.floor((22050/512)*size_of_window)])\n",
    "    print(len(melspec_data_of_windows))\n",
    "    only_windows.extend(melspec_data_of_windows)\n",
    "    songs_data[ind][\"melspec_data_of_windows\"] = melspec_data_of_windows\n",
    "    #if ind == 10:\n",
    "    #    break\n",
    "    \n",
    "with open('only_windows.pickle', 'wb') as handle:\n",
    "    pickle.dump(only_windows, handle, protocol=pickle.HIGHEST_PROTOCOL)\n"
   ]
  },
  {
   "cell_type": "code",
   "execution_count": 11,
   "metadata": {},
   "outputs": [],
   "source": [
    "with open('only_windows.pickle', 'rb') as handle:\n",
    "    only_windows = pickle.load(handle)\n"
   ]
  },
  {
   "cell_type": "markdown",
   "metadata": {},
   "source": [
    "# Clustering"
   ]
  },
  {
   "cell_type": "code",
   "execution_count": 12,
   "metadata": {},
   "outputs": [],
   "source": [
    "nsongs, nwindows, size_window = np.array(only_windows).shape\n",
    "d2_train_dataset = np.array(only_windows).reshape((nsongs*nwindows,size_window))"
   ]
  },
  {
   "cell_type": "code",
   "execution_count": 20,
   "metadata": {},
   "outputs": [
    {
     "name": "stdout",
     "output_type": "stream",
     "text": [
      "-1       13786\n",
      " 133      7516\n",
      " 3304      229\n",
      " 17        182\n",
      " 3294      143\n",
      " 1889       94\n",
      " 1947       87\n",
      " 400        87\n",
      " 4172       85\n",
      " 3511       83\n",
      " 844        81\n",
      " 1958       80\n",
      " 2125       79\n",
      " 3438       78\n",
      " 318        77\n",
      " 408        77\n",
      " 3481       76\n",
      " 638        76\n",
      " 308        74\n",
      " 3235       72\n",
      " 3224       72\n",
      " 3051       70\n",
      " 3247       70\n",
      " 3314       70\n",
      " 2052       68\n",
      " 1988       68\n",
      " 2607       68\n",
      " 3454       67\n",
      " 3465       66\n",
      " 274        66\n",
      "         ...  \n",
      " 2133        2\n",
      " 2581        2\n",
      " 2357        2\n",
      " 532         2\n",
      " 2549        2\n",
      " 500         2\n",
      " 2517        2\n",
      " 468         2\n",
      " 2485        2\n",
      " 436         2\n",
      " 2453        2\n",
      " 404         2\n",
      " 2421        2\n",
      " 372         2\n",
      " 340         2\n",
      " 2325        2\n",
      " 4182        2\n",
      " 276         2\n",
      " 244         2\n",
      " 2261        2\n",
      " 212         2\n",
      " 4278        2\n",
      " 2229        2\n",
      " 180         2\n",
      " 4246        2\n",
      " 148         2\n",
      " 4214        2\n",
      " 2165        2\n",
      " 116         2\n",
      " 0           2\n",
      "Length: 4300, dtype: int64\n"
     ]
    }
   ],
   "source": [
    "hyper_params = {\n",
    "    \"epsilon\" : 100,\n",
    "    \"min_samples\" : 2,\n",
    "    #\"min_cluster_num\" : \n",
    "}\n",
    "\n",
    "db = DBSCAN(eps = hyper_params[\"epsilon\"], min_samples = hyper_params[\"min_samples\"], metric='euclidean',algorithm='brute').fit(d2_train_dataset[:40000])\n",
    "core_samples_mask = np.zeros_like(db.labels_, dtype=bool)\n",
    "core_samples_mask[db.core_sample_indices_] = True\n",
    "labels = db.labels_ \n",
    "print(pd.Series(labels).value_counts())"
   ]
  },
  {
   "cell_type": "code",
   "execution_count": null,
   "metadata": {},
   "outputs": [],
   "source": []
  }
 ],
 "metadata": {
  "kernelspec": {
   "display_name": "Python 3",
   "language": "python",
   "name": "python3"
  },
  "language_info": {
   "codemirror_mode": {
    "name": "ipython",
    "version": 3
   },
   "file_extension": ".py",
   "mimetype": "text/x-python",
   "name": "python",
   "nbconvert_exporter": "python",
   "pygments_lexer": "ipython3",
   "version": "3.6.4"
  }
 },
 "nbformat": 4,
 "nbformat_minor": 2
}
