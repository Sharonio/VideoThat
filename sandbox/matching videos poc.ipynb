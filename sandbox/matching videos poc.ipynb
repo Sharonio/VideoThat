{
 "cells": [
  {
   "cell_type": "markdown",
   "metadata": {},
   "source": [
    "# 👩‍💻👩🏻‍💻👩‍💻🧟👩🏽‍💻\n",
    "\n",
    "## In this notebook...\n",
    "\n",
    "- Load 30 mini-data Tailor Swift video+song\n",
    "- Load pyscene detection\n",
    "- Create Librosa onset detection\n",
    "- Create a Pandas DataFrame with ALL the info\n",
    "\n",
    "## VideoThat! main algo:\n",
    "### find a cool way to match video parts onto the input song\n",
    "\n",
    "this is a playground let's have fun :)\n",
    "that's a lie, copy this notebook and have fun there... 👾💜🌱"
   ]
  },
  {
   "cell_type": "code",
   "execution_count": 13,
   "metadata": {},
   "outputs": [],
   "source": [
    "import os\n",
    "import pandas as pd\n",
    "from pathlib import Path\n",
    "import librosa"
   ]
  },
  {
   "cell_type": "code",
   "execution_count": 8,
   "metadata": {},
   "outputs": [],
   "source": [
    "base_path = Path('../data/taylor') # change what comes after \"data\" for your computer location\n",
    "taylor_swifts = [path for path in base_path.glob('Taylor Swift*') if path.is_dir()] # create a list of taylor song folder paths\n",
    "largest_files = [max(taylor_song.glob('*'), key=lambda f: f.stat().st_size) for taylor_song in taylor_swifts]"
   ]
  },
  {
   "cell_type": "code",
   "execution_count": 14,
   "metadata": {},
   "outputs": [],
   "source": [
    "songs = [librosa.load(str(i)) for i in largest_files] # This is SLOW\n",
    "songs_gist = [s[0] for s in songs]"
   ]
  },
  {
   "cell_type": "code",
   "execution_count": 25,
   "metadata": {},
   "outputs": [],
   "source": [
    "onsets = [librosa.frames_to_time(librosa.onset.onset_detect(s)) for s in songs_gist]"
   ]
  },
  {
   "cell_type": "code",
   "execution_count": 28,
   "metadata": {},
   "outputs": [],
   "source": [
    "names = [f.stem for f in largest_files]"
   ]
  },
  {
   "cell_type": "code",
   "execution_count": null,
   "metadata": {},
   "outputs": [],
   "source": [
    "scenes = []\n",
    "\n",
    "for name in names:\n",
    "    scenesDf = pd.read_csv(base_path / (name + '-Scenes.csv'), skiprows = 1)\n",
    "    scenes.append(scenesDf['Start Time (seconds)'])"
   ]
  },
  {
   "cell_type": "code",
   "execution_count": 50,
   "metadata": {},
   "outputs": [
    {
     "data": {
      "text/html": [
       "<div>\n",
       "<style scoped>\n",
       "    .dataframe tbody tr th:only-of-type {\n",
       "        vertical-align: middle;\n",
       "    }\n",
       "\n",
       "    .dataframe tbody tr th {\n",
       "        vertical-align: top;\n",
       "    }\n",
       "\n",
       "    .dataframe thead th {\n",
       "        text-align: right;\n",
       "    }\n",
       "</style>\n",
       "<table border=\"1\" class=\"dataframe\">\n",
       "  <thead>\n",
       "    <tr style=\"text-align: right;\">\n",
       "      <th></th>\n",
       "      <th>name</th>\n",
       "      <th>song_wave</th>\n",
       "      <th>scene_start_times_sec</th>\n",
       "      <th>onset_times_sec</th>\n",
       "    </tr>\n",
       "  </thead>\n",
       "  <tbody>\n",
       "    <tr>\n",
       "      <th>0</th>\n",
       "      <td>Taylor Swift - White Horse-D1Xr-JFLxik</td>\n",
       "      <td>[0.0, 0.0, 0.0, 0.0, 0.0, 0.0, 0.0, 0.0, 0.0, ...</td>\n",
       "      <td>0        0.000\n",
       "1        0.667\n",
       "2        3.587\n",
       "3...</td>\n",
       "      <td>[0.6965986394557823, 1.3467573696145125, 1.648...</td>\n",
       "    </tr>\n",
       "    <tr>\n",
       "      <th>1</th>\n",
       "      <td>Taylor Swift - The Story Of Us-nN6VR92V70M</td>\n",
       "      <td>[0.0, 0.0, 0.0, 0.0, 0.0, 0.0, 0.0, 0.0, 0.0, ...</td>\n",
       "      <td>0        0.000\n",
       "1        0.500\n",
       "2        1.417\n",
       "3...</td>\n",
       "      <td>[0.6501587301587302, 0.905578231292517, 1.0913...</td>\n",
       "    </tr>\n",
       "    <tr>\n",
       "      <th>2</th>\n",
       "      <td>Taylor Swift - Delicate-tCXGJQYZ9JA</td>\n",
       "      <td>[0.0, 0.0, 0.0, 0.0, 0.0, 0.0, 0.0, 0.0, 0.0, ...</td>\n",
       "      <td>0       0.000\n",
       "1       3.045\n",
       "2       6.715\n",
       "3   ...</td>\n",
       "      <td>[3.8312925170068026, 4.040272108843538, 4.2028...</td>\n",
       "    </tr>\n",
       "    <tr>\n",
       "      <th>3</th>\n",
       "      <td>Taylor Swift - Style--CmadmM5cOk</td>\n",
       "      <td>[0.0, 0.0, 0.0, 0.0, 0.0, 0.0, 0.0, 0.0, 0.0, ...</td>\n",
       "      <td>0        0.000\n",
       "1        7.424\n",
       "2        9.259\n",
       "3...</td>\n",
       "      <td>[0.11609977324263039, 10.077460317460318, 10.4...</td>\n",
       "    </tr>\n",
       "    <tr>\n",
       "      <th>4</th>\n",
       "      <td>Taylor Swift - ME! (feat. Brendon Urie of Pani...</td>\n",
       "      <td>[0.0, 0.0, 0.0, 0.0, 0.0, 0.0, 0.0, 0.0, 0.0, ...</td>\n",
       "      <td>0       0.000\n",
       "1       0.500\n",
       "2       5.255\n",
       "3   ...</td>\n",
       "      <td>[17.29886621315193, 19.11002267573696, 19.6208...</td>\n",
       "    </tr>\n",
       "  </tbody>\n",
       "</table>\n",
       "</div>"
      ],
      "text/plain": [
       "                                                name  \\\n",
       "0             Taylor Swift - White Horse-D1Xr-JFLxik   \n",
       "1         Taylor Swift - The Story Of Us-nN6VR92V70M   \n",
       "2                Taylor Swift - Delicate-tCXGJQYZ9JA   \n",
       "3                   Taylor Swift - Style--CmadmM5cOk   \n",
       "4  Taylor Swift - ME! (feat. Brendon Urie of Pani...   \n",
       "\n",
       "                                           song_wave  \\\n",
       "0  [0.0, 0.0, 0.0, 0.0, 0.0, 0.0, 0.0, 0.0, 0.0, ...   \n",
       "1  [0.0, 0.0, 0.0, 0.0, 0.0, 0.0, 0.0, 0.0, 0.0, ...   \n",
       "2  [0.0, 0.0, 0.0, 0.0, 0.0, 0.0, 0.0, 0.0, 0.0, ...   \n",
       "3  [0.0, 0.0, 0.0, 0.0, 0.0, 0.0, 0.0, 0.0, 0.0, ...   \n",
       "4  [0.0, 0.0, 0.0, 0.0, 0.0, 0.0, 0.0, 0.0, 0.0, ...   \n",
       "\n",
       "                               scene_start_times_sec  \\\n",
       "0  0        0.000\n",
       "1        0.667\n",
       "2        3.587\n",
       "3...   \n",
       "1  0        0.000\n",
       "1        0.500\n",
       "2        1.417\n",
       "3...   \n",
       "2  0       0.000\n",
       "1       3.045\n",
       "2       6.715\n",
       "3   ...   \n",
       "3  0        0.000\n",
       "1        7.424\n",
       "2        9.259\n",
       "3...   \n",
       "4  0       0.000\n",
       "1       0.500\n",
       "2       5.255\n",
       "3   ...   \n",
       "\n",
       "                                     onset_times_sec  \n",
       "0  [0.6965986394557823, 1.3467573696145125, 1.648...  \n",
       "1  [0.6501587301587302, 0.905578231292517, 1.0913...  \n",
       "2  [3.8312925170068026, 4.040272108843538, 4.2028...  \n",
       "3  [0.11609977324263039, 10.077460317460318, 10.4...  \n",
       "4  [17.29886621315193, 19.11002267573696, 19.6208...  "
      ]
     },
     "execution_count": 50,
     "metadata": {},
     "output_type": "execute_result"
    }
   ],
   "source": [
    "df = pd.DataFrame({'name':names, 'song_wave':songs_gist, 'scene_start_times_sec':scenes, 'onset_times_sec':onsets})\n",
    "df.head(5)"
   ]
  },
  {
   "cell_type": "code",
   "execution_count": 57,
   "metadata": {},
   "outputs": [],
   "source": [
    "# Save!\n",
    "\n",
    "# taylor_df1 = df.head(15)\n",
    "# taylor_df2 = df.tail(15)\n",
    "\n",
    "# taylor_df1.to_pickle(\"./taylor_df1.pkl\")\n",
    "# taylor_df2.to_pickle(\"./taylor_df2.pkl\")"
   ]
  },
  {
   "cell_type": "code",
   "execution_count": 56,
   "metadata": {},
   "outputs": [],
   "source": []
  },
  {
   "cell_type": "code",
   "execution_count": null,
   "metadata": {},
   "outputs": [],
   "source": []
  },
  {
   "cell_type": "code",
   "execution_count": null,
   "metadata": {},
   "outputs": [],
   "source": []
  },
  {
   "cell_type": "code",
   "execution_count": null,
   "metadata": {},
   "outputs": [],
   "source": []
  },
  {
   "cell_type": "code",
   "execution_count": null,
   "metadata": {},
   "outputs": [],
   "source": []
  },
  {
   "cell_type": "code",
   "execution_count": null,
   "metadata": {},
   "outputs": [],
   "source": []
  },
  {
   "cell_type": "code",
   "execution_count": null,
   "metadata": {},
   "outputs": [],
   "source": []
  },
  {
   "cell_type": "code",
   "execution_count": null,
   "metadata": {},
   "outputs": [],
   "source": []
  },
  {
   "cell_type": "code",
   "execution_count": null,
   "metadata": {},
   "outputs": [],
   "source": []
  },
  {
   "cell_type": "code",
   "execution_count": null,
   "metadata": {},
   "outputs": [],
   "source": []
  }
 ],
 "metadata": {
  "kernelspec": {
   "display_name": "Python 3",
   "language": "python",
   "name": "python3"
  },
  "language_info": {
   "codemirror_mode": {
    "name": "ipython",
    "version": 3
   },
   "file_extension": ".py",
   "mimetype": "text/x-python",
   "name": "python",
   "nbconvert_exporter": "python",
   "pygments_lexer": "ipython3",
   "version": "3.7.4"
  }
 },
 "nbformat": 4,
 "nbformat_minor": 2
}
