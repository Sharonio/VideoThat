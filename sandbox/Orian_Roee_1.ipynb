{
 "cells": [
  {
   "cell_type": "code",
   "execution_count": 9,
   "metadata": {},
   "outputs": [],
   "source": [
    "from __future__ import print_function\n",
    "import os\n",
    "import pandas as pd\n",
    "\n",
    "import scenedetect\n",
    "from scenedetect.video_manager import VideoManager\n",
    "from scenedetect.scene_manager import SceneManager\n",
    "from scenedetect.frame_timecode import FrameTimecode\n",
    "from scenedetect.stats_manager import StatsManager\n",
    "from scenedetect.detectors import ContentDetector"
   ]
  },
  {
   "cell_type": "code",
   "execution_count": 23,
   "metadata": {},
   "outputs": [],
   "source": [
    "path_to_data = '/Users/fitz/Documents/code/VideoThat/data/music-from-youtube/'\n",
    "path_to_taylor = '/Users/fitz/Documents/code/VideoThat/data/taylor/Taylor Swift - Mean-jYa1eI1hpDE/Taylor Swift - Mean-jYa1eI1hpDE.mkv'\n",
    "\n",
    "STATS_FILE_PATH = path_to_data +'Beyoncé - Crazy In Love ft. JAY Z-ViwtNLUqkMY/testvideo.stats.csv'"
   ]
  },
  {
   "cell_type": "code",
   "execution_count": 24,
   "metadata": {},
   "outputs": [],
   "source": [
    "def main():\n",
    "\n",
    "    # Create a video_manager point to video file testvideo.mp4. Note that multiple\n",
    "    # videos can be appended by simply specifying more file paths in the list\n",
    "    # passed to the VideoManager constructor. Note that appending multiple videos\n",
    "    # requires that they all have the same frame size, and optionally, framerate.\n",
    "    video_manager = VideoManager([path_to_taylor])\n",
    "    stats_manager = StatsManager()\n",
    "    scene_manager = SceneManager(stats_manager)\n",
    "    # Add ContentDetector algorithm (constructor takes detector options like threshold).\n",
    "    scene_manager.add_detector(ContentDetector())\n",
    "    base_timecode = video_manager.get_base_timecode()\n",
    "\n",
    "    try:\n",
    "        # If stats file exists, load it.\n",
    "        if os.path.exists(STATS_FILE_PATH):\n",
    "            # Read stats from CSV file opened in read mode:\n",
    "            with open(STATS_FILE_PATH, 'r') as stats_file:\n",
    "                stats_manager.load_from_csv(stats_file, base_timecode)\n",
    "\n",
    "        start_time = base_timecode     # 00:00:00.667\n",
    "        end_time = base_timecode + 20.0     # 00:00:20.000\n",
    "        # Set video_manager duration to read frames from 00:00:00 to 00:00:20.\n",
    "        video_manager.set_duration(start_time=start_time, end_time=end_time)\n",
    "\n",
    "        # Set downscale factor to improve processing speed (no args means default).\n",
    "        video_manager.set_downscale_factor()\n",
    "\n",
    "        # Start video_manager.\n",
    "        video_manager.start()\n",
    "\n",
    "        # Perform scene detection on video_manager.\n",
    "        scene_manager.detect_scenes(frame_source=video_manager)\n",
    "\n",
    "        # Obtain list of detected scenes.\n",
    "        scene_list = scene_manager.get_scene_list(base_timecode)\n",
    "        # Like FrameTimecodes, each scene in the scene_list can be sorted if the\n",
    "        # list of scenes becomes unsorted.\n",
    "\n",
    "        print('List of scenes obtained:')\n",
    "        for i, scene in enumerate(scene_list):\n",
    "            print('    Scene %2d: Start %s / Frame %d, End %s / Frame %d' % (\n",
    "                i+1,\n",
    "                scene[0].get_timecode(), scene[0].get_frames(),\n",
    "                scene[1].get_timecode(), scene[1].get_frames(),))\n",
    "\n",
    "        # We only write to the stats file if a save is required:\n",
    "        if stats_manager.is_save_required():\n",
    "            with open(STATS_FILE_PATH, 'w') as stats_file:\n",
    "                stats_manager.save_to_csv(stats_file, base_timecode)\n",
    "\n",
    "    finally:\n",
    "        video_manager.release()"
   ]
  },
  {
   "cell_type": "code",
   "execution_count": 25,
   "metadata": {},
   "outputs": [
    {
     "ename": "VideoOpenFailure",
     "evalue": "OpenCV VideoCapture object failed to return True when calling isOpened().",
     "output_type": "error",
     "traceback": [
      "\u001b[0;31m---------------------------------------------------------------------------\u001b[0m",
      "\u001b[0;31mVideoOpenFailure\u001b[0m                          Traceback (most recent call last)",
      "\u001b[0;32m<ipython-input-25-972361fa1b80>\u001b[0m in \u001b[0;36m<module>\u001b[0;34m\u001b[0m\n\u001b[1;32m      1\u001b[0m \u001b[0;32mif\u001b[0m \u001b[0m__name__\u001b[0m \u001b[0;34m==\u001b[0m \u001b[0;34m\"__main__\"\u001b[0m\u001b[0;34m:\u001b[0m\u001b[0;34m\u001b[0m\u001b[0;34m\u001b[0m\u001b[0m\n\u001b[0;32m----> 2\u001b[0;31m     \u001b[0mmain\u001b[0m\u001b[0;34m(\u001b[0m\u001b[0;34m)\u001b[0m\u001b[0;34m\u001b[0m\u001b[0;34m\u001b[0m\u001b[0m\n\u001b[0m",
      "\u001b[0;32m<ipython-input-24-f8fabd374f3b>\u001b[0m in \u001b[0;36mmain\u001b[0;34m()\u001b[0m\n\u001b[1;32m      5\u001b[0m     \u001b[0;31m# passed to the VideoManager constructor. Note that appending multiple videos\u001b[0m\u001b[0;34m\u001b[0m\u001b[0;34m\u001b[0m\u001b[0;34m\u001b[0m\u001b[0m\n\u001b[1;32m      6\u001b[0m     \u001b[0;31m# requires that they all have the same frame size, and optionally, framerate.\u001b[0m\u001b[0;34m\u001b[0m\u001b[0;34m\u001b[0m\u001b[0;34m\u001b[0m\u001b[0m\n\u001b[0;32m----> 7\u001b[0;31m     \u001b[0mvideo_manager\u001b[0m \u001b[0;34m=\u001b[0m \u001b[0mVideoManager\u001b[0m\u001b[0;34m(\u001b[0m\u001b[0;34m[\u001b[0m\u001b[0mpath_to_taylor\u001b[0m\u001b[0;34m]\u001b[0m\u001b[0;34m)\u001b[0m\u001b[0;34m\u001b[0m\u001b[0;34m\u001b[0m\u001b[0m\n\u001b[0m\u001b[1;32m      8\u001b[0m     \u001b[0mstats_manager\u001b[0m \u001b[0;34m=\u001b[0m \u001b[0mStatsManager\u001b[0m\u001b[0;34m(\u001b[0m\u001b[0;34m)\u001b[0m\u001b[0;34m\u001b[0m\u001b[0;34m\u001b[0m\u001b[0m\n\u001b[1;32m      9\u001b[0m     \u001b[0mscene_manager\u001b[0m \u001b[0;34m=\u001b[0m \u001b[0mSceneManager\u001b[0m\u001b[0;34m(\u001b[0m\u001b[0mstats_manager\u001b[0m\u001b[0;34m)\u001b[0m\u001b[0;34m\u001b[0m\u001b[0;34m\u001b[0m\u001b[0m\n",
      "\u001b[0;32m/usr/local/lib/python3.7/site-packages/scenedetect/video_manager.py\u001b[0m in \u001b[0;36m__init__\u001b[0;34m(self, video_files, framerate, logger)\u001b[0m\n\u001b[1;32m    369\u001b[0m         \u001b[0;31m# These VideoCaptures are only open in this process.\u001b[0m\u001b[0;34m\u001b[0m\u001b[0;34m\u001b[0m\u001b[0;34m\u001b[0m\u001b[0m\n\u001b[1;32m    370\u001b[0m         self._cap_list, self._cap_framerate, self._cap_framesize = open_captures(\n\u001b[0;32m--> 371\u001b[0;31m             video_files=video_files, framerate=framerate)\n\u001b[0m\u001b[1;32m    372\u001b[0m         \u001b[0mself\u001b[0m\u001b[0;34m.\u001b[0m\u001b[0m_end_of_video\u001b[0m \u001b[0;34m=\u001b[0m \u001b[0;32mFalse\u001b[0m\u001b[0;34m\u001b[0m\u001b[0;34m\u001b[0m\u001b[0m\n\u001b[1;32m    373\u001b[0m         \u001b[0mself\u001b[0m\u001b[0;34m.\u001b[0m\u001b[0m_start_time\u001b[0m \u001b[0;34m=\u001b[0m \u001b[0mself\u001b[0m\u001b[0;34m.\u001b[0m\u001b[0mget_base_timecode\u001b[0m\u001b[0;34m(\u001b[0m\u001b[0;34m)\u001b[0m\u001b[0;34m\u001b[0m\u001b[0;34m\u001b[0m\u001b[0m\n",
      "\u001b[0;32m/usr/local/lib/python3.7/site-packages/scenedetect/video_manager.py\u001b[0m in \u001b[0;36mopen_captures\u001b[0;34m(video_files, framerate, validate_parameters)\u001b[0m\n\u001b[1;32m    237\u001b[0m                        enumerate(cap_list) if not cap.isOpened()]\n\u001b[1;32m    238\u001b[0m         \u001b[0;32mif\u001b[0m \u001b[0mclosed_caps\u001b[0m\u001b[0;34m:\u001b[0m\u001b[0;34m\u001b[0m\u001b[0;34m\u001b[0m\u001b[0m\n\u001b[0;32m--> 239\u001b[0;31m             \u001b[0;32mraise\u001b[0m \u001b[0mVideoOpenFailure\u001b[0m\u001b[0;34m(\u001b[0m\u001b[0mclosed_caps\u001b[0m\u001b[0;34m)\u001b[0m\u001b[0;34m\u001b[0m\u001b[0;34m\u001b[0m\u001b[0m\n\u001b[0m\u001b[1;32m    240\u001b[0m \u001b[0;34m\u001b[0m\u001b[0m\n\u001b[1;32m    241\u001b[0m         \u001b[0mcap_framerates\u001b[0m \u001b[0;34m=\u001b[0m \u001b[0;34m[\u001b[0m\u001b[0mcap\u001b[0m\u001b[0;34m.\u001b[0m\u001b[0mget\u001b[0m\u001b[0;34m(\u001b[0m\u001b[0mcv2\u001b[0m\u001b[0;34m.\u001b[0m\u001b[0mCAP_PROP_FPS\u001b[0m\u001b[0;34m)\u001b[0m \u001b[0;32mfor\u001b[0m \u001b[0mcap\u001b[0m \u001b[0;32min\u001b[0m \u001b[0mcap_list\u001b[0m\u001b[0;34m]\u001b[0m\u001b[0;34m\u001b[0m\u001b[0;34m\u001b[0m\u001b[0m\n",
      "\u001b[0;31mVideoOpenFailure\u001b[0m: OpenCV VideoCapture object failed to return True when calling isOpened()."
     ]
    }
   ],
   "source": [
    "if __name__ == \"__main__\":\n",
    "    main()"
   ]
  },
  {
   "cell_type": "code",
   "execution_count": 18,
   "metadata": {},
   "outputs": [
    {
     "data": {
      "text/html": [
       "<div>\n",
       "<style scoped>\n",
       "    .dataframe tbody tr th:only-of-type {\n",
       "        vertical-align: middle;\n",
       "    }\n",
       "\n",
       "    .dataframe tbody tr th {\n",
       "        vertical-align: top;\n",
       "    }\n",
       "\n",
       "    .dataframe thead th {\n",
       "        text-align: right;\n",
       "    }\n",
       "</style>\n",
       "<table border=\"1\" class=\"dataframe\">\n",
       "  <thead>\n",
       "    <tr style=\"text-align: right;\">\n",
       "      <th></th>\n",
       "      <th></th>\n",
       "      <th></th>\n",
       "      <th></th>\n",
       "      <th>Frame Rate:</th>\n",
       "      <th>29.9700298309</th>\n",
       "    </tr>\n",
       "  </thead>\n",
       "  <tbody>\n",
       "    <tr>\n",
       "      <th>Frame Number</th>\n",
       "      <th>Timecode</th>\n",
       "      <th>content_val</th>\n",
       "      <th>delta_hue</th>\n",
       "      <td>delta_lum</td>\n",
       "      <td>delta_sat</td>\n",
       "    </tr>\n",
       "    <tr>\n",
       "      <th>1</th>\n",
       "      <th>00:00:00.033</th>\n",
       "      <th>0.0</th>\n",
       "      <th>0.0</th>\n",
       "      <td>0.0</td>\n",
       "      <td>0.0</td>\n",
       "    </tr>\n",
       "    <tr>\n",
       "      <th>2</th>\n",
       "      <th>00:00:00.067</th>\n",
       "      <th>12.842909356725146</th>\n",
       "      <th>7.2973684210526315</th>\n",
       "      <td>0.1224780701754386</td>\n",
       "      <td>31.10888157894737</td>\n",
       "    </tr>\n",
       "    <tr>\n",
       "      <th>3</th>\n",
       "      <th>00:00:00.100</th>\n",
       "      <th>81.14888157894737</th>\n",
       "      <th>42.2981798245614</th>\n",
       "      <td>97.84798245614036</td>\n",
       "      <td>103.30048245614034</td>\n",
       "    </tr>\n",
       "    <tr>\n",
       "      <th>4</th>\n",
       "      <th>00:00:00.133</th>\n",
       "      <th>5.6344371345029245</th>\n",
       "      <th>1.81875</th>\n",
       "      <td>6.1951754385964914</td>\n",
       "      <td>8.88938596491228</td>\n",
       "    </tr>\n",
       "    <tr>\n",
       "      <th>5</th>\n",
       "      <th>00:00:00.167</th>\n",
       "      <th>6.323355263157894</th>\n",
       "      <th>2.202872807017544</th>\n",
       "      <td>7.145482456140351</td>\n",
       "      <td>9.62171052631579</td>\n",
       "    </tr>\n",
       "    <tr>\n",
       "      <th>6</th>\n",
       "      <th>00:00:00.200</th>\n",
       "      <th>6.0276023391812865</th>\n",
       "      <th>1.8780921052631578</th>\n",
       "      <td>7.022478070175438</td>\n",
       "      <td>9.182236842105263</td>\n",
       "    </tr>\n",
       "    <tr>\n",
       "      <th>7</th>\n",
       "      <th>00:00:00.234</th>\n",
       "      <th>7.52701754385965</th>\n",
       "      <th>2.559407894736842</th>\n",
       "      <td>8.98671052631579</td>\n",
       "      <td>11.034934210526316</td>\n",
       "    </tr>\n",
       "    <tr>\n",
       "      <th>8</th>\n",
       "      <th>00:00:00.267</th>\n",
       "      <th>9.246652046783625</th>\n",
       "      <th>3.5128508771929825</th>\n",
       "      <td>11.74061403508772</td>\n",
       "      <td>12.486491228070175</td>\n",
       "    </tr>\n",
       "    <tr>\n",
       "      <th>9</th>\n",
       "      <th>00:00:00.300</th>\n",
       "      <th>9.037032163742689</th>\n",
       "      <th>3.362236842105263</th>\n",
       "      <td>11.400723684210526</td>\n",
       "      <td>12.34813596491228</td>\n",
       "    </tr>\n",
       "  </tbody>\n",
       "</table>\n",
       "</div>"
      ],
      "text/plain": [
       "                                                                        Frame Rate:  \\\n",
       "Frame Number Timecode     content_val        delta_hue                    delta_lum   \n",
       "1            00:00:00.033 0.0                0.0                                0.0   \n",
       "2            00:00:00.067 12.842909356725146 7.2973684210526315  0.1224780701754386   \n",
       "3            00:00:00.100 81.14888157894737  42.2981798245614     97.84798245614036   \n",
       "4            00:00:00.133 5.6344371345029245 1.81875             6.1951754385964914   \n",
       "5            00:00:00.167 6.323355263157894  2.202872807017544    7.145482456140351   \n",
       "6            00:00:00.200 6.0276023391812865 1.8780921052631578   7.022478070175438   \n",
       "7            00:00:00.234 7.52701754385965   2.559407894736842     8.98671052631579   \n",
       "8            00:00:00.267 9.246652046783625  3.5128508771929825   11.74061403508772   \n",
       "9            00:00:00.300 9.037032163742689  3.362236842105263   11.400723684210526   \n",
       "\n",
       "                                                                      29.9700298309  \n",
       "Frame Number Timecode     content_val        delta_hue                    delta_sat  \n",
       "1            00:00:00.033 0.0                0.0                                0.0  \n",
       "2            00:00:00.067 12.842909356725146 7.2973684210526315   31.10888157894737  \n",
       "3            00:00:00.100 81.14888157894737  42.2981798245614    103.30048245614034  \n",
       "4            00:00:00.133 5.6344371345029245 1.81875               8.88938596491228  \n",
       "5            00:00:00.167 6.323355263157894  2.202872807017544     9.62171052631579  \n",
       "6            00:00:00.200 6.0276023391812865 1.8780921052631578   9.182236842105263  \n",
       "7            00:00:00.234 7.52701754385965   2.559407894736842   11.034934210526316  \n",
       "8            00:00:00.267 9.246652046783625  3.5128508771929825  12.486491228070175  \n",
       "9            00:00:00.300 9.037032163742689  3.362236842105263    12.34813596491228  "
      ]
     },
     "execution_count": 18,
     "metadata": {},
     "output_type": "execute_result"
    }
   ],
   "source": [
    "df = pd.read_csv(STATS_FILE_PATH)\n",
    "df.head(10)"
   ]
  },
  {
   "cell_type": "code",
   "execution_count": 19,
   "metadata": {},
   "outputs": [
    {
     "data": {
      "text/plain": [
       "<bound method Index._get_level_values of Index(['Frame Rate:', '29.9700298309'], dtype='object')>"
      ]
     },
     "execution_count": 19,
     "metadata": {},
     "output_type": "execute_result"
    }
   ],
   "source": [
    "df.columns.get_level_values"
   ]
  },
  {
   "cell_type": "code",
   "execution_count": 22,
   "metadata": {},
   "outputs": [
    {
     "data": {
      "text/html": [
       "<div>\n",
       "<style scoped>\n",
       "    .dataframe tbody tr th:only-of-type {\n",
       "        vertical-align: middle;\n",
       "    }\n",
       "\n",
       "    .dataframe tbody tr th {\n",
       "        vertical-align: top;\n",
       "    }\n",
       "\n",
       "    .dataframe thead th {\n",
       "        text-align: right;\n",
       "    }\n",
       "</style>\n",
       "<table border=\"1\" class=\"dataframe\">\n",
       "  <thead>\n",
       "    <tr style=\"text-align: right;\">\n",
       "      <th></th>\n",
       "      <th></th>\n",
       "      <th></th>\n",
       "      <th></th>\n",
       "    </tr>\n",
       "  </thead>\n",
       "  <tbody>\n",
       "    <tr>\n",
       "      <th>Frame Number</th>\n",
       "      <th>Timecode</th>\n",
       "      <th>content_val</th>\n",
       "      <th>delta_hue</th>\n",
       "    </tr>\n",
       "    <tr>\n",
       "      <th>1</th>\n",
       "      <th>00:00:00.033</th>\n",
       "      <th>0.0</th>\n",
       "      <th>0.0</th>\n",
       "    </tr>\n",
       "    <tr>\n",
       "      <th>2</th>\n",
       "      <th>00:00:00.067</th>\n",
       "      <th>12.842909356725146</th>\n",
       "      <th>7.2973684210526315</th>\n",
       "    </tr>\n",
       "    <tr>\n",
       "      <th>3</th>\n",
       "      <th>00:00:00.100</th>\n",
       "      <th>81.14888157894737</th>\n",
       "      <th>42.2981798245614</th>\n",
       "    </tr>\n",
       "    <tr>\n",
       "      <th>4</th>\n",
       "      <th>00:00:00.133</th>\n",
       "      <th>5.6344371345029245</th>\n",
       "      <th>1.81875</th>\n",
       "    </tr>\n",
       "    <tr>\n",
       "      <th>5</th>\n",
       "      <th>00:00:00.167</th>\n",
       "      <th>6.323355263157894</th>\n",
       "      <th>2.202872807017544</th>\n",
       "    </tr>\n",
       "    <tr>\n",
       "      <th>6</th>\n",
       "      <th>00:00:00.200</th>\n",
       "      <th>6.0276023391812865</th>\n",
       "      <th>1.8780921052631578</th>\n",
       "    </tr>\n",
       "    <tr>\n",
       "      <th>7</th>\n",
       "      <th>00:00:00.234</th>\n",
       "      <th>7.52701754385965</th>\n",
       "      <th>2.559407894736842</th>\n",
       "    </tr>\n",
       "    <tr>\n",
       "      <th>8</th>\n",
       "      <th>00:00:00.267</th>\n",
       "      <th>9.246652046783625</th>\n",
       "      <th>3.5128508771929825</th>\n",
       "    </tr>\n",
       "    <tr>\n",
       "      <th>9</th>\n",
       "      <th>00:00:00.300</th>\n",
       "      <th>9.037032163742689</th>\n",
       "      <th>3.362236842105263</th>\n",
       "    </tr>\n",
       "  </tbody>\n",
       "</table>\n",
       "</div>"
      ],
      "text/plain": [
       "Empty DataFrame\n",
       "Columns: []\n",
       "Index: [(Frame Number, Timecode, content_val, delta_hue), (1, 00:00:00.033, 0.0, 0.0), (2, 00:00:00.067, 12.842909356725146, 7.2973684210526315), (3, 00:00:00.100, 81.14888157894737, 42.2981798245614), (4, 00:00:00.133, 5.6344371345029245, 1.81875), (5, 00:00:00.167, 6.323355263157894, 2.202872807017544), (6, 00:00:00.200, 6.0276023391812865, 1.8780921052631578), (7, 00:00:00.234, 7.52701754385965, 2.559407894736842), (8, 00:00:00.267, 9.246652046783625, 3.5128508771929825), (9, 00:00:00.300, 9.037032163742689, 3.362236842105263)]"
      ]
     },
     "execution_count": 22,
     "metadata": {},
     "output_type": "execute_result"
    }
   ],
   "source": [
    "df.loc[:, df.columns.get_level_values(0).isin(['Frame Number'])].head(10)"
   ]
  },
  {
   "cell_type": "code",
   "execution_count": 26,
   "metadata": {},
   "outputs": [],
   "source": [
    "import cv2"
   ]
  },
  {
   "cell_type": "code",
   "execution_count": 27,
   "metadata": {},
   "outputs": [
    {
     "data": {
      "text/plain": [
       "'4.0.1'"
      ]
     },
     "execution_count": 27,
     "metadata": {},
     "output_type": "execute_result"
    }
   ],
   "source": []
  },
  {
   "cell_type": "code",
   "execution_count": null,
   "metadata": {},
   "outputs": [],
   "source": []
  },
  {
   "cell_type": "code",
   "execution_count": null,
   "metadata": {},
   "outputs": [],
   "source": []
  },
  {
   "cell_type": "code",
   "execution_count": null,
   "metadata": {},
   "outputs": [],
   "source": []
  }
 ],
 "metadata": {
  "kernelspec": {
   "display_name": "Python 3",
   "language": "python",
   "name": "python3"
  },
  "language_info": {
   "codemirror_mode": {
    "name": "ipython",
    "version": 3
   },
   "file_extension": ".py",
   "mimetype": "text/x-python",
   "name": "python",
   "nbconvert_exporter": "python",
   "pygments_lexer": "ipython3",
   "version": "3.7.4"
  }
 },
 "nbformat": 4,
 "nbformat_minor": 2
}
