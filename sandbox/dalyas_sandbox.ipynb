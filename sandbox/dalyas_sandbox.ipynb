{
 "cells": [
  {
   "cell_type": "code",
   "execution_count": null,
   "metadata": {
    "collapsed": true
   },
   "outputs": [],
   "source": [
    "import librosa\n",
    "import librosa.display\n",
    "\n",
    "import numpy as np\n",
    "import pandas as pd\n",
    "import matplotlib.pyplot as plt\n",
    "%matplotlib inline\n",
    "\n",
    "from IPython.display import Audio, display, Image, YouTubeVideo\n",
    "\n",
    "from sklearn.cluster import DBSCAN"
   ]
  },
  {
   "cell_type": "code",
   "execution_count": null,
   "metadata": {
    "collapsed": true
   },
   "outputs": [],
   "source": [
    "sr = 22050\n",
    "hop_length = 512"
   ]
  },
  {
   "cell_type": "code",
   "execution_count": null,
   "metadata": {
    "collapsed": false,
    "scrolled": true
   },
   "outputs": [],
   "source": [
    "df_f_name = '../data/taylor_df.pkl'\n",
    "df = pd.read_pickle(df_f_name)\n",
    "df"
   ]
  },
  {
   "cell_type": "code",
   "execution_count": null,
   "metadata": {
    "collapsed": false
   },
   "outputs": [],
   "source": [
    "y = df['song_wave'].iloc[0]\n",
    "sec_start = 10\n",
    "n_secs = 15\n",
    "loc_start = sec_start * sr\n",
    "loc_end = (sec_start + n_secs) * sr\n",
    "Audio(y[loc_start:loc_end], rate=sr)"
   ]
  },
  {
   "cell_type": "markdown",
   "metadata": {},
   "source": [
    "_____________________________________"
   ]
  },
  {
   "cell_type": "markdown",
   "metadata": {},
   "source": [
    "# Detecting onset (audio)"
   ]
  },
  {
   "cell_type": "code",
   "execution_count": null,
   "metadata": {
    "collapsed": true
   },
   "outputs": [],
   "source": [
    "def get_clipped_onset_env(y, sr, hop_length):\n",
    "    onset_env = librosa.onset.onset_strength(y=y, sr=sr, hop_length=hop_length, aggregate=np.median)\n",
    "    clipped_onset_env = np.clip(onset_env, 0, np.percentile(onset_env, 99.9))\n",
    "    return clipped_onset_env"
   ]
  },
  {
   "cell_type": "code",
   "execution_count": null,
   "metadata": {
    "collapsed": true
   },
   "outputs": [],
   "source": [
    "def get_onset_locs(y, sr, hop_length, val_ofset, windows_per_second, delta, seconds_to_wait, onset_env=None):\n",
    "    onset_locs = librosa.onset.onset_detect(y, onset_envelope=onset_env, \n",
    "                                            sr=sr, hop_length=hop_length, \n",
    "                                            pre_max=val_ofset, post_max=val_ofset,\n",
    "                                            delta=delta, wait=windows_per_second * seconds_to_wait)\n",
    "    return onset_locs"
   ]
  },
  {
   "cell_type": "code",
   "execution_count": null,
   "metadata": {
    "collapsed": true
   },
   "outputs": [],
   "source": [
    "def plot_onset_detect(onset_env, onset_locs, sr, hop_length, windows_per_second):\n",
    "    plt.figure(figsize=(15, 4));\n",
    "\n",
    "    plt.subplot(1, 2, 1);\n",
    "\n",
    "    times = librosa.frames_to_time(np.arange(len(onset_env)), sr=sr, hop_length=hop_length)\n",
    "    ax = plt.gca()\n",
    "    ax.xaxis.set_major_formatter(plt.FuncFormatter(lambda t, pos: \"{}:{}\".format(int(t//60), int(t%60))))\n",
    "\n",
    "    plt.plot(times, onset_env, alpha=0.8, label='Onset strength')\n",
    "    plt.vlines(times[onset_locs], 0, onset_env.max(), color='r', alpha=0.8, label='Selected peaks')\n",
    "\n",
    "    plt.legend(frameon=True, framealpha=0.8)\n",
    "\n",
    "    plt.subplot(1, 2, 2);\n",
    "    secs_to_next_onset = [(x2 - x1) / windows_per_second\n",
    "                          for x1, x2 in zip(onset_locs[:-1], onset_locs[1:])]\n",
    "    plt.plot(secs_to_next_onset);\n",
    "    plt.ylabel('secs to next onset');\n",
    "    plt.xlabel('onset index');\n",
    "\n",
    "    plt.tight_layout();"
   ]
  },
  {
   "cell_type": "code",
   "execution_count": null,
   "metadata": {
    "collapsed": false,
    "scrolled": true
   },
   "outputs": [],
   "source": [
    "val_ofset = 1\n",
    "windows_per_second = 43\n",
    "delta = 0.2\n",
    "seconds_to_wait = 3\n",
    "\n",
    "y = df['song_wave'].iloc[5]\n",
    "\n",
    "onset_env = get_clipped_onset_env(y, sr, hop_length)\n",
    "onset_locs = get_onset_locs(y, sr, hop_length, val_ofset, windows_per_second, delta, seconds_to_wait, onset_env)\n",
    "plot_onset_detect(onset_env, onset_locs, sr, hop_length, windows_per_second)"
   ]
  },
  {
   "cell_type": "markdown",
   "metadata": {},
   "source": [
    "\n",
    "_____________________________________\n"
   ]
  },
  {
   "cell_type": "markdown",
   "metadata": {},
   "source": [
    "# Detecting scenes (video)"
   ]
  },
  {
   "cell_type": "code",
   "execution_count": 19,
   "metadata": {
    "collapsed": true
   },
   "outputs": [],
   "source": [
    "from __future__ import print_function\n",
    "import os\n",
    "import pandas as pd\n",
    "import numpy as np\n",
    "\n",
    "import matplotlib.pyplot as plt\n",
    "%matplotlib inline\n",
    "\n",
    "import scenedetect\n",
    "from scenedetect.video_manager import VideoManager\n",
    "from scenedetect.scene_manager import SceneManager\n",
    "from scenedetect.frame_timecode import FrameTimecode\n",
    "from scenedetect.stats_manager import StatsManager\n",
    "from scenedetect.detectors import ContentDetector"
   ]
  },
  {
   "cell_type": "code",
   "execution_count": 2,
   "metadata": {
    "collapsed": false
   },
   "outputs": [],
   "source": [
    "calm_down_path = '../data/Taylor_Swift_-_You_Need_To_Calm_Down.mp4'\n",
    "output_stats_path = '../data/testvideo.stats.csv'"
   ]
  },
  {
   "cell_type": "code",
   "execution_count": 3,
   "metadata": {
    "collapsed": true
   },
   "outputs": [],
   "source": [
    "def detect_scenes(input_song_path, output_stats_path):\n",
    "    video_manager = VideoManager([input_song_path])\n",
    "    stats_manager = StatsManager()\n",
    "    scene_manager = SceneManager(stats_manager)\n",
    "    scene_manager.add_detector(ContentDetector())\n",
    "    base_timecode = video_manager.get_base_timecode()\n",
    "\n",
    "    start_time = base_timecode + 20     # 00:00:00.667\n",
    "    end_time = base_timecode + 20.0     # 00:00:20.000\n",
    "    # Set video_manager duration to read frames from 00:00:00 to 00:00:20.\n",
    "    video_manager.set_duration(start_time=start_time, end_time=end_time)\n",
    "\n",
    "    # Set downscale factor to improve processing speed (no args means default).\n",
    "    video_manager.set_downscale_factor()\n",
    "\n",
    "    # Start video_manager.\n",
    "    video_manager.start()\n",
    "\n",
    "    # Perform scene detection on video_manager.\n",
    "    scene_manager.detect_scenes(frame_source=video_manager)\n",
    "\n",
    "    # Obtain list of detected scenes.\n",
    "    scene_list = scene_manager.get_scene_list(base_timecode)\n",
    "    # Like FrameTimecodes, each scene in the scene_list can be sorted if the\n",
    "    # list of scenes becomes unsorted.\n",
    "\n",
    "    print('List of scenes obtained:')\n",
    "    for i, scene in enumerate(scene_list):\n",
    "        print('    Scene %2d: Start %s / Frame %d, End %s / Frame %d' % (\n",
    "            i+1,\n",
    "            scene[0].get_timecode(), scene[0].get_frames(),\n",
    "            scene[1].get_timecode(), scene[1].get_frames(),))\n",
    "\n",
    "    stats_manager.save_to_csv(open(output_stats_path, 'w'), base_timecode)\n",
    "    video_manager.release()"
   ]
  },
  {
   "cell_type": "code",
   "execution_count": 4,
   "metadata": {
    "collapsed": false
   },
   "outputs": [
    {
     "name": "stdout",
     "output_type": "stream",
     "text": [
      "List of scenes obtained:\n",
      "    Scene  1: Start 00:00:00.834 / Frame 20, End 00:00:02.836 / Frame 68\n",
      "    Scene  2: Start 00:00:02.836 / Frame 68, End 00:00:05.589 / Frame 134\n",
      "    Scene  3: Start 00:00:05.589 / Frame 134, End 00:00:08.383 / Frame 201\n",
      "    Scene  4: Start 00:00:08.383 / Frame 201, End 00:00:10.844 / Frame 260\n",
      "    Scene  5: Start 00:00:10.844 / Frame 260, End 00:00:14.097 / Frame 338\n",
      "    Scene  6: Start 00:00:14.097 / Frame 338, End 00:00:19.686 / Frame 472\n",
      "    Scene  7: Start 00:00:19.686 / Frame 472, End 00:00:19.186 / Frame 460\n",
      "Writing 459 frames to CSV...\n"
     ]
    }
   ],
   "source": [
    "detect_scenes(calm_down_path, output_stats_path)"
   ]
  },
  {
   "cell_type": "code",
   "execution_count": 31,
   "metadata": {
    "collapsed": false
   },
   "outputs": [
    {
     "name": "stderr",
     "output_type": "stream",
     "text": [
      "C:\\Users\\Rey\\Anaconda3\\lib\\site-packages\\ipykernel\\__main__.py:5: FutureWarning: convert_objects is deprecated.  To re-infer data dtypes for object columns, use DataFrame.infer_objects()\n",
      "For all other conversions use the data-type specific converters pd.to_datetime, pd.to_timedelta and pd.to_numeric.\n"
     ]
    },
    {
     "data": {
      "text/html": [
       "<div>\n",
       "<style scoped>\n",
       "    .dataframe tbody tr th:only-of-type {\n",
       "        vertical-align: middle;\n",
       "    }\n",
       "\n",
       "    .dataframe tbody tr th {\n",
       "        vertical-align: top;\n",
       "    }\n",
       "\n",
       "    .dataframe thead th {\n",
       "        text-align: right;\n",
       "    }\n",
       "</style>\n",
       "<table border=\"1\" class=\"dataframe\">\n",
       "  <thead>\n",
       "    <tr style=\"text-align: right;\">\n",
       "      <th></th>\n",
       "      <th>Frame Number</th>\n",
       "      <th>Timecode</th>\n",
       "      <th>content_val</th>\n",
       "      <th>delta_hue</th>\n",
       "      <th>delta_lum</th>\n",
       "      <th>delta_sat</th>\n",
       "    </tr>\n",
       "  </thead>\n",
       "  <tbody>\n",
       "    <tr>\n",
       "      <th>1</th>\n",
       "      <td>21</td>\n",
       "      <td>00:00:00.876</td>\n",
       "      <td>0.046846</td>\n",
       "      <td>0.020288</td>\n",
       "      <td>0.048131</td>\n",
       "      <td>0.072118</td>\n",
       "    </tr>\n",
       "    <tr>\n",
       "      <th>2</th>\n",
       "      <td>22</td>\n",
       "      <td>00:00:00.918</td>\n",
       "      <td>0.094185</td>\n",
       "      <td>0.085903</td>\n",
       "      <td>0.059813</td>\n",
       "      <td>0.136838</td>\n",
       "    </tr>\n",
       "    <tr>\n",
       "      <th>3</th>\n",
       "      <td>23</td>\n",
       "      <td>00:00:00.959</td>\n",
       "      <td>0.086501</td>\n",
       "      <td>0.085592</td>\n",
       "      <td>0.075545</td>\n",
       "      <td>0.098364</td>\n",
       "    </tr>\n",
       "    <tr>\n",
       "      <th>4</th>\n",
       "      <td>24</td>\n",
       "      <td>00:00:01.001</td>\n",
       "      <td>0.120249</td>\n",
       "      <td>0.136020</td>\n",
       "      <td>0.093069</td>\n",
       "      <td>0.131659</td>\n",
       "    </tr>\n",
       "    <tr>\n",
       "      <th>5</th>\n",
       "      <td>25</td>\n",
       "      <td>00:00:01.043</td>\n",
       "      <td>0.202960</td>\n",
       "      <td>0.152103</td>\n",
       "      <td>0.231581</td>\n",
       "      <td>0.225195</td>\n",
       "    </tr>\n",
       "  </tbody>\n",
       "</table>\n",
       "</div>"
      ],
      "text/plain": [
       "0  Frame Number      Timecode  content_val  delta_hue  delta_lum  delta_sat\n",
       "1            21  00:00:00.876     0.046846   0.020288   0.048131   0.072118\n",
       "2            22  00:00:00.918     0.094185   0.085903   0.059813   0.136838\n",
       "3            23  00:00:00.959     0.086501   0.085592   0.075545   0.098364\n",
       "4            24  00:00:01.001     0.120249   0.136020   0.093069   0.131659\n",
       "5            25  00:00:01.043     0.202960   0.152103   0.231581   0.225195"
      ]
     },
     "execution_count": 31,
     "metadata": {},
     "output_type": "execute_result"
    }
   ],
   "source": [
    "df = pd.read_csv(output_stats_path)\n",
    "df.reset_index(inplace=True)\n",
    "df.columns = df.iloc[0]\n",
    "df = df.drop([0])\n",
    "df = df.convert_objects(convert_numeric=True)\n",
    "df.head()"
   ]
  },
  {
   "cell_type": "code",
   "execution_count": 32,
   "metadata": {
    "collapsed": false
   },
   "outputs": [
    {
     "data": {
      "image/png": "[encoded data removed]",
      "text/plain": [
       "<Figure size 432x288 with 1 Axes>"
      ]
     },
     "metadata": {},
     "output_type": "display_data"
    }
   ],
   "source": [
    "plt.hist(df['delta_hue'], bins=20);"
   ]
  },
  {
   "cell_type": "code",
   "execution_count": 49,
   "metadata": {
    "collapsed": false
   },
   "outputs": [
    {
     "data": {
      "text/plain": [
       "[(48, 46.854945482866036),\n",
       " (114, 60.77971183800623),\n",
       " (181, 41.49045950155763),\n",
       " (240, 39.87387071651089),\n",
       " (280, 12.102141744548286),\n",
       " (303, 11.055451713395641),\n",
       " (304, 10.95),\n",
       " (305, 11.307281931464177),\n",
       " (306, 10.456970404984425),\n",
       " (307, 10.137266355140186),\n",
       " (308, 10.74182242990654),\n",
       " (309, 10.81993769470405),\n",
       " (310, 10.022313084112149),\n",
       " (311, 10.650194704049843),\n",
       " (318, 32.854205607476636),\n",
       " (452, 69.1242601246106)]"
      ]
     },
     "execution_count": 49,
     "metadata": {},
     "output_type": "execute_result"
    }
   ],
   "source": [
    "[(i, a) for (i, a) in list(df['delta_hue'].items()) if a > 10]"
   ]
  },
  {
   "cell_type": "code",
   "execution_count": null,
   "metadata": {
    "collapsed": false
   },
   "outputs": [],
   "source": [
    "len(df)"
   ]
  },
  {
   "cell_type": "code",
   "execution_count": null,
   "metadata": {
    "collapsed": true
   },
   "outputs": [],
   "source": []
  },
  {
   "cell_type": "code",
   "execution_count": 38,
   "metadata": {
    "collapsed": false
   },
   "outputs": [
    {
     "data": {
      "image/png": "[encoded data removed]",
      "text/plain": [
       "<Figure size 432x288 with 1 Axes>"
      ]
     },
     "metadata": {},
     "output_type": "display_data"
    }
   ],
   "source": [
    "plt.plot(df['delta_hue']);"
   ]
  },
  {
   "cell_type": "code",
   "execution_count": 47,
   "metadata": {
    "collapsed": false
   },
   "outputs": [
    {
     "data": {
      "text/plain": [
       "[(1, 0.020288161993769472),\n",
       " (2, 0.08590342679127726),\n",
       " (3, 0.08559190031152647),\n",
       " (4, 0.1360202492211838),\n",
       " (5, 0.15210280373831775),\n",
       " (6, 0.15292056074766355),\n",
       " (7, 0.5648753894080997),\n",
       " (8, 0.06366822429906542),\n",
       " (9, 0.059112149532710274),\n",
       " (10, 0.29840342679127724),\n",
       " (11, 0.09867601246105917),\n",
       " (12, 0.2838006230529595),\n",
       " (13, 0.1930685358255452),\n",
       " (14, 0.04127725856697819),\n",
       " (15, 0.09104361370716513),\n",
       " (16, 0.3575545171339564),\n",
       " (17, 0.10833333333333334),\n",
       " (18, 0.2269859813084112),\n",
       " (19, 0.19887071651090346),\n",
       " (20, 0.03220404984423676),\n",
       " (21, 0.057866043613707174),\n",
       " (22, 0.07702492211838008),\n",
       " (23, 0.15837227414330218),\n",
       " (24, 0.2294392523364486),\n",
       " (25, 0.07021028037383177),\n",
       " (26, 0.06927570093457944),\n",
       " (27, 0.1183411214953271),\n",
       " (28, 0.2265576323987539),\n",
       " (29, 0.1640576323987539),\n",
       " (30, 0.06958722741433022),\n",
       " (31, 0.07858255451713396),\n",
       " (32, 0.039447040498442366),\n",
       " (33, 0.07328660436137073),\n",
       " (34, 0.18450155763239875),\n",
       " (35, 0.08333333333333333),\n",
       " (36, 0.08274922118380063),\n",
       " (37, 0.026869158878504672),\n",
       " (38, 0.011721183800623055),\n",
       " (39, 0.10517912772585668),\n",
       " (40, 6.069781931464174),\n",
       " (41, 0.054322429906542055),\n",
       " (42, 0.23753894080996885),\n",
       " (43, 0.01133177570093458),\n",
       " (44, 0.07305295950155763),\n",
       " (45, 0.04587227414330218),\n",
       " (46, 0.09898753894080996),\n",
       " (47, 0.043496884735202496),\n",
       " (48, 46.854945482866036),\n",
       " (49, 0.2180685358255452),\n",
       " (50, 0.19069314641744547),\n",
       " (51, 0.0779595015576324),\n",
       " (52, 0.05650311526479751),\n",
       " (53, 0.09501557632398754),\n",
       " (54, 0.10965732087227414),\n",
       " (55, 0.05101246105919003),\n",
       " (56, 0.05514018691588785),\n",
       " (57, 0.05996884735202492),\n",
       " (58, 0.06873052959501558),\n",
       " (59, 0.04649532710280374),\n",
       " (60, 0.08333333333333333),\n",
       " (61, 0.052842679127725854),\n",
       " (62, 0.0323208722741433),\n",
       " (63, 0.07994548286604361),\n",
       " (64, 0.055996884735202486),\n",
       " (65, 0.06721183800623053),\n",
       " (66, 0.024493769470404984),\n",
       " (67, 0.007320872274143302),\n",
       " (68, 0.0323208722741433),\n",
       " (69, 0.0228582554517134),\n",
       " (70, 0.023325545171339564),\n",
       " (71, 0.0514018691588785),\n",
       " (72, 0.03364485981308411),\n",
       " (73, 0.01713395638629283),\n",
       " (74, 0.004049844236760125),\n",
       " (75, 0.07332554517133956),\n",
       " (76, 0.051674454828660434),\n",
       " (77, 0.035942367601246104),\n",
       " (78, 0.013278816199376948),\n",
       " (79, 0.00397196261682243),\n",
       " (80, 0.024766355140186914),\n",
       " (81, 0.01004672897196262),\n",
       " (82, 0.005802180685358255),\n",
       " (83, 0.00895638629283489),\n",
       " (84, 0.01207165109034268),\n",
       " (85, 0.0009735202492211838),\n",
       " (86, 0.00837227414330218),\n",
       " (87, 0.010981308411214951),\n",
       " (88, 0.00911214953271028),\n",
       " (89, 0.0008566978193146418),\n",
       " (90, 0.0032710280373831773),\n",
       " (91, 0.0010514018691588783),\n",
       " (92, 0.011565420560747663),\n",
       " (93, 0.005257009345794392),\n",
       " (94, 0.003115264797507788),\n",
       " (95, 0.0040887850467289715),\n",
       " (96, 0.007982866043613706),\n",
       " (97, 0.0008956386292834891),\n",
       " (98, 0.008605919003115265),\n",
       " (99, 7.788161993769472e-05),\n",
       " (100, 2.409151090342679),\n",
       " (101, 0.007320872274143302),\n",
       " (102, 0.003894080996884735),\n",
       " (103, 0.0005062305295950156),\n",
       " (104, 0.015031152647975075),\n",
       " (105, 0.0002336448598130841),\n",
       " (106, 3.894080996884736e-05),\n",
       " (107, 0.00035046728971962614),\n",
       " (108, 0.0033878504672897195),\n",
       " (109, 0.003738317757009346),\n",
       " (110, 0.0026869158878504674),\n",
       " (111, 0.00455607476635514),\n",
       " (112, 0.01074766355140187),\n",
       " (113, 0.005334890965732086),\n",
       " (114, 60.77971183800623),\n",
       " (115, 0.2469236760124611),\n",
       " (116, 0.0595404984423676),\n",
       " (117, 0.09610591900311527),\n",
       " (118, 0.026168224299065426),\n",
       " (119, 0.048403426791277265),\n",
       " (120, 0.01888629283489096),\n",
       " (121, 0.07725856697819315),\n",
       " (122, 0.014369158878504672),\n",
       " (123, 0.029828660436137067),\n",
       " (124, 0.11799065420560748),\n",
       " (125, 0.012928348909657321),\n",
       " (126, 0.03687694704049845),\n",
       " (127, 0.056035825545171336),\n",
       " (128, 0.07768691588785047),\n",
       " (129, 0.019158878504672898),\n",
       " (130, 0.034890965732087234),\n",
       " (131, 0.021105919003115262),\n",
       " (132, 0.016939252336448597),\n",
       " (133, 0.010825545171339565),\n",
       " (134, 0.03812305295950156),\n",
       " (135, 0.018341121495327104),\n",
       " (136, 0.026246105919003115),\n",
       " (137, 0.0338006230529595),\n",
       " (138, 0.08126947040498443),\n",
       " (139, 0.053076323987538934),\n",
       " (140, 0.07667445482866042),\n",
       " (141, 0.06845794392523365),\n",
       " (142, 0.04832554517133957),\n",
       " (143, 0.06896417445482866),\n",
       " (144, 0.04365264797507788),\n",
       " (145, 0.01542056074766355),\n",
       " (146, 0.03407320872274143),\n",
       " (147, 0.07301401869158879),\n",
       " (148, 0.03360591900311526),\n",
       " (149, 0.06277258566978193),\n",
       " (150, 0.027998442367601246),\n",
       " (151, 0.013512461059190031),\n",
       " (152, 0.0110202492211838),\n",
       " (153, 0.013707165109034268),\n",
       " (154, 0.00661993769470405),\n",
       " (155, 0.022741433021806853),\n",
       " (156, 0.018068535825545167),\n",
       " (157, 0.011059190031152648),\n",
       " (158, 0.020288161993769472),\n",
       " (159, 0.018146417445482867),\n",
       " (160, 3.0447429906542056),\n",
       " (161, 0.016238317757009346),\n",
       " (162, 0.021651090342679133),\n",
       " (163, 0.01296728971962617),\n",
       " (164, 0.011214953271028037),\n",
       " (165, 0.01838006230529595),\n",
       " (166, 0.004750778816199377),\n",
       " (167, 0.0024532710280373827),\n",
       " (168, 0.002998442367601246),\n",
       " (169, 0.0024532710280373827),\n",
       " (170, 0.0020249221183800624),\n",
       " (171, 0.0007009345794392523),\n",
       " (172, 0.0024922118380062306),\n",
       " (173, 0.003855140186915888),\n",
       " (174, 0.0020638629283489095),\n",
       " (175, 0.00397196261682243),\n",
       " (176, 0.03064641744548286),\n",
       " (177, 0.028855140186915887),\n",
       " (178, 0.013317757009345794),\n",
       " (179, 0.01822429906542056),\n",
       " (180, 0.0227803738317757),\n",
       " (181, 41.49045950155763),\n",
       " (182, 0.005179127725856698),\n",
       " (183, 0.0012461059190031153),\n",
       " (184, 0.0008177570093457943),\n",
       " (185, 0.013200934579439251),\n",
       " (186, 0.008644859813084112),\n",
       " (187, 0.004127725856697819),\n",
       " (188, 0.02262461059190031),\n",
       " (189, 0.009345794392523364),\n",
       " (190, 0.010202492211838006),\n",
       " (191, 0.01296728971962617),\n",
       " (192, 0.003738317757009346),\n",
       " (193, 0.005334890965732086),\n",
       " (194, 0.033411214953271026),\n",
       " (195, 0.011565420560747663),\n",
       " (196, 0.012850467289719626),\n",
       " (197, 0.04228971962616823),\n",
       " (198, 0.01604361370716511),\n",
       " (199, 0.007749221183800624),\n",
       " (200, 0.020054517133956385),\n",
       " (201, 0.044898753894081),\n",
       " (202, 0.01826323987538941),\n",
       " (203, 0.007866043613707166),\n",
       " (204, 0.07644080996884735),\n",
       " (205, 0.029166666666666667),\n",
       " (206, 0.046962616822429915),\n",
       " (207, 0.00778816199376947),\n",
       " (208, 0.01542056074766355),\n",
       " (209, 0.01779595015576324),\n",
       " (210, 0.02336448598130841),\n",
       " (211, 0.04240654205607477),\n",
       " (212, 0.07464953271028038),\n",
       " (213, 0.03695482866043614),\n",
       " (214, 0.024688473520249218),\n",
       " (215, 0.06865264797507788),\n",
       " (216, 0.013161993769470404),\n",
       " (217, 0.02737538940809969),\n",
       " (218, 0.003660436137071651),\n",
       " (219, 0.024766355140186914),\n",
       " (220, 3.5386292834890964),\n",
       " (221, 0.04295171339563863),\n",
       " (222, 0.009345794392523364),\n",
       " (223, 0.005451713395638629),\n",
       " (224, 0.007982866043613706),\n",
       " (225, 0.004400311526479751),\n",
       " (226, 0.007398753894080997),\n",
       " (227, 0.0005062305295950156),\n",
       " (228, 0.0),\n",
       " (229, 0.0),\n",
       " (230, 0.0025311526479750773),\n",
       " (231, 0.0073598130841121484),\n",
       " (232, 0.006191588785046729),\n",
       " (233, 7.788161993769472e-05),\n",
       " (234, 0.00035046728971962614),\n",
       " (235, 0.0),\n",
       " (236, 0.004828660436137072),\n",
       " (237, 0.0004672897196261682),\n",
       " (238, 0.0),\n",
       " (239, 0.003037383177570093),\n",
       " (240, 39.87387071651089),\n",
       " (241, 3.2290887850467285),\n",
       " (242, 3.267640186915888),\n",
       " (243, 3.25202492211838),\n",
       " (244, 3.5298286604361366),\n",
       " (245, 3.7869158878504674),\n",
       " (246, 3.6197819314641744),\n",
       " (247, 4.018964174454829),\n",
       " (248, 3.929672897196262),\n",
       " (249, 4.278232087227415),\n",
       " (250, 4.597118380062304),\n",
       " (251, 4.239485981308412),\n",
       " (252, 5.005996884735202),\n",
       " (253, 5.001285046728972),\n",
       " (254, 5.263161993769471),\n",
       " (255, 4.9796339563862935),\n",
       " (256, 5.067523364485981),\n",
       " (257, 4.898987538940809),\n",
       " (258, 4.942289719626168),\n",
       " (259, 5.072079439252336),\n",
       " (260, 4.472390965732087),\n",
       " (261, 5.08446261682243),\n",
       " (262, 5.215031152647975),\n",
       " (263, 5.163590342679128),\n",
       " (264, 6.36693925233645),\n",
       " (265, 6.438823987538941),\n",
       " (266, 6.680451713395637),\n",
       " (267, 7.319626168224299),\n",
       " (268, 8.010981308411216),\n",
       " (269, 7.833177570093457),\n",
       " (270, 8.62768691588785),\n",
       " (271, 9.075934579439252),\n",
       " (272, 9.163668224299066),\n",
       " (273, 9.692133956386293),\n",
       " (274, 9.760591900311525),\n",
       " (275, 9.602453271028038),\n",
       " (276, 9.603582554517134),\n",
       " (277, 9.10880062305296),\n",
       " (278, 8.6428738317757),\n",
       " (279, 7.527219626168224),\n",
       " (280, 12.102141744548286),\n",
       " (281, 6.352881619937695),\n",
       " (282, 5.037811526479751),\n",
       " (283, 3.959735202492212),\n",
       " (284, 3.122468847352025),\n",
       " (285, 2.0989485981308413),\n",
       " (286, 2.4665498442367597),\n",
       " (287, 4.270521806853583),\n",
       " (288, 4.4370327102803735),\n",
       " (289, 4.761214953271028),\n",
       " (290, 5.535825545171338),\n",
       " (291, 5.655257009345794),\n",
       " (292, 5.946222741433022),\n",
       " (293, 5.598014018691589),\n",
       " (294, 6.113473520249221),\n",
       " (295, 6.127609034267912),\n",
       " (296, 5.8116043613707165),\n",
       " (297, 6.236020249221183),\n",
       " (298, 6.465965732087227),\n",
       " (299, 7.297585669781933),\n",
       " (300, 8.395054517133957),\n",
       " (301, 8.960942367601248),\n",
       " (302, 9.86958722741433),\n",
       " (303, 11.055451713395641),\n",
       " (304, 10.95),\n",
       " (305, 11.307281931464177),\n",
       " (306, 10.456970404984425),\n",
       " (307, 10.137266355140186),\n",
       " (308, 10.74182242990654),\n",
       " (309, 10.81993769470405),\n",
       " (310, 10.022313084112149),\n",
       " (311, 10.650194704049843),\n",
       " (312, 9.951635514018694),\n",
       " (313, 8.217250778816199),\n",
       " (314, 6.973403426791277),\n",
       " (315, 5.0390576323987535),\n",
       " (316, 4.054789719626168),\n",
       " (317, 3.8077492211838),\n",
       " (318, 32.854205607476636),\n",
       " (319, 3.6686526479750783),\n",
       " (320, 4.13076323987539),\n",
       " (321, 3.984968847352025),\n",
       " (322, 3.2327881619937693),\n",
       " (323, 2.910552959501558),\n",
       " (324, 2.4914719626168225),\n",
       " (325, 2.1743769470404986),\n",
       " (326, 2.5405373831775697),\n",
       " (327, 1.9849299065420558),\n",
       " (328, 2.2723520249221183),\n",
       " (329, 2.313045171339564),\n",
       " (330, 2.289758566978193),\n",
       " (331, 1.801518691588785),\n",
       " (332, 2.1615654205607475),\n",
       " (333, 1.9684190031152649),\n",
       " (334, 1.7161604361370717),\n",
       " (335, 1.9432632398753893),\n",
       " (336, 2.1722741433021806),\n",
       " (337, 1.9750389408099691),\n",
       " (338, 1.7665498442367602),\n",
       " (339, 1.5333333333333334),\n",
       " (340, 1.517601246105919),\n",
       " (341, 1.929789719626168),\n",
       " (342, 1.822468847352025),\n",
       " (343, 1.5933021806853582),\n",
       " (344, 1.699454828660436),\n",
       " (345, 1.5654205607476634),\n",
       " (346, 1.6314252336448598),\n",
       " (347, 1.3779595015576325),\n",
       " (348, 7.019859813084112),\n",
       " (349, 1.371183800623053),\n",
       " (350, 1.3084890965732088),\n",
       " (351, 1.5541277258566981),\n",
       " (352, 1.416822429906542),\n",
       " (353, 1.3531931464174456),\n",
       " (354, 1.2616043613707164),\n",
       " (355, 1.3440809968847351),\n",
       " (356, 1.208605919003115),\n",
       " (357, 1.2461448598130842),\n",
       " (358, 1.385436137071651),\n",
       " (359, 0.994898753894081),\n",
       " (360, 1.032593457943925),\n",
       " (361, 0.6526479750778816),\n",
       " (362, 0.5768691588785047),\n",
       " (363, 0.7333333333333333),\n",
       " (364, 0.783683800623053),\n",
       " (365, 0.5888239875389408),\n",
       " (366, 0.7743380062305296),\n",
       " (367, 0.4341121495327103),\n",
       " (368, 0.885708722741433),\n",
       " (369, 0.775233644859813),\n",
       " (370, 0.6075155763239876),\n",
       " (371, 0.6200934579439252),\n",
       " (372, 1.0331386292834892),\n",
       " (373, 0.7735981308411215),\n",
       " (374, 0.8048286604361371),\n",
       " (375, 0.9360981308411216),\n",
       " (376, 1.1123442367601246),\n",
       " (377, 0.9754672897196262),\n",
       " (378, 1.3756619937694703),\n",
       " (379, 1.2018691588785049),\n",
       " (380, 1.005334890965732),\n",
       " (381, 0.8264018691588785),\n",
       " (382, 0.4777258566978193),\n",
       " (383, 0.6436526479750779),\n",
       " (384, 0.7062694704049844),\n",
       " (385, 1.0362928348909657),\n",
       " (386, 1.5505841121495327),\n",
       " (387, 1.1909267912772583),\n",
       " (388, 1.424026479750779),\n",
       " (389, 1.254867601246106),\n",
       " (390, 1.106113707165109),\n",
       " (391, 1.6144080996884735),\n",
       " (392, 1.335708722741433),\n",
       " (393, 0.9978971962616824),\n",
       " (394, 1.2109423676012459),\n",
       " (395, 0.8392523364485981),\n",
       " (396, 1.4334890965732088),\n",
       " (397, 1.2630841121495326),\n",
       " (398, 1.0319314641744548),\n",
       " (399, 0.8343068535825545),\n",
       " (400, 0.7985202492211838),\n",
       " (401, 0.685981308411215),\n",
       " (402, 0.8308021806853583),\n",
       " (403, 1.0464563862928349),\n",
       " (404, 0.7843847352024922),\n",
       " (405, 0.9282710280373832),\n",
       " (406, 1.1019470404984424),\n",
       " (407, 1.4386292834890966),\n",
       " (408, 6.812071651090343),\n",
       " (409, 1.3795560747663551),\n",
       " (410, 1.2054127725856698),\n",
       " (411, 1.0005841121495327),\n",
       " (412, 1.1847741433021808),\n",
       " (413, 0.7176791277258567),\n",
       " (414, 0.8602803738317757),\n",
       " (415, 0.9728193146417444),\n",
       " (416, 1.0955607476635514),\n",
       " (417, 0.8618769470404984),\n",
       " (418, 0.9906152647975078),\n",
       " (419, 1.2897196261682242),\n",
       " (420, 1.5465732087227415),\n",
       " (421, 1.651518691588785),\n",
       " (422, 1.6912383177570094),\n",
       " (423, 1.3718068535825545),\n",
       " (424, 1.4256230529595015),\n",
       " (425, 1.5177570093457944),\n",
       " (426, 1.3625778816199376),\n",
       " (427, 1.627803738317757),\n",
       " (428, 2.057710280373832),\n",
       " (429, 2.2930685358255447),\n",
       " (430, 2.6573208722741435),\n",
       " (431, 2.6440809968847354),\n",
       " (432, 3.0201713395638627),\n",
       " (433, 3.3404595015576324),\n",
       " (434, 3.6773753894081),\n",
       " (435, 3.6111370716510898),\n",
       " (436, 3.659540498442368),\n",
       " (437, 3.2972741433021806),\n",
       " (438, 3.78851246105919),\n",
       " (439, 3.2649532710280376),\n",
       " (440, 3.148520249221184),\n",
       " (441, 2.73142523364486),\n",
       " (442, 2.5850856697819315),\n",
       " (443, 2.3863707165109034),\n",
       " (444, 2.3023753894081),\n",
       " (445, 1.859384735202492),\n",
       " (446, 1.5961059190031153),\n",
       " (447, 1.5195093457943925),\n",
       " (448, 1.3646417445482866),\n",
       " (449, 1.1818925233644857),\n",
       " (450, 0.9751168224299064),\n",
       " (451, 0.5967289719626169),\n",
       " (452, 69.1242601246106),\n",
       " (453, 0.5547897196261682),\n",
       " (454, 0.75),\n",
       " (455, 0.4499610591900312),\n",
       " (456, 0.5932242990654205),\n",
       " (457, 0.5135514018691589),\n",
       " (458, 1.190303738317757),\n",
       " (459, 1.5784657320872275)]"
      ]
     },
     "execution_count": 47,
     "metadata": {},
     "output_type": "execute_result"
    }
   ],
   "source": [
    "list(df['delta_hue'].items())"
   ]
  },
  {
   "cell_type": "code",
   "execution_count": null,
   "metadata": {
    "collapsed": true
   },
   "outputs": [],
   "source": []
  },
  {
   "cell_type": "code",
   "execution_count": null,
   "metadata": {
    "collapsed": true
   },
   "outputs": [],
   "source": []
  },
  {
   "cell_type": "code",
   "execution_count": null,
   "metadata": {
    "collapsed": true
   },
   "outputs": [],
   "source": []
  },
  {
   "cell_type": "code",
   "execution_count": null,
   "metadata": {
    "collapsed": true
   },
   "outputs": [],
   "source": []
  },
  {
   "cell_type": "code",
   "execution_count": null,
   "metadata": {
    "collapsed": true
   },
   "outputs": [],
   "source": []
  },
  {
   "cell_type": "code",
   "execution_count": null,
   "metadata": {
    "collapsed": true
   },
   "outputs": [],
   "source": []
  },
  {
   "cell_type": "code",
   "execution_count": null,
   "metadata": {
    "collapsed": true
   },
   "outputs": [],
   "source": []
  },
  {
   "cell_type": "code",
   "execution_count": null,
   "metadata": {
    "collapsed": true
   },
   "outputs": [],
   "source": []
  },
  {
   "cell_type": "code",
   "execution_count": null,
   "metadata": {
    "collapsed": true
   },
   "outputs": [],
   "source": []
  },
  {
   "cell_type": "code",
   "execution_count": null,
   "metadata": {
    "collapsed": true
   },
   "outputs": [],
   "source": []
  },
  {
   "cell_type": "code",
   "execution_count": null,
   "metadata": {
    "collapsed": true
   },
   "outputs": [],
   "source": []
  },
  {
   "cell_type": "markdown",
   "metadata": {},
   "source": [
    "***********************"
   ]
  },
  {
   "cell_type": "markdown",
   "metadata": {
    "collapsed": false
   },
   "source": [
    "# Playground"
   ]
  },
  {
   "cell_type": "code",
   "execution_count": null,
   "metadata": {
    "collapsed": false
   },
   "outputs": [],
   "source": [
    "librosa.display.waveplot(y, sr=sr);"
   ]
  },
  {
   "cell_type": "code",
   "execution_count": null,
   "metadata": {
    "collapsed": true
   },
   "outputs": [],
   "source": [
    "n_fft = 2048\n",
    "hop_length = 512\n",
    "n_mels = 124"
   ]
  },
  {
   "cell_type": "code",
   "execution_count": null,
   "metadata": {
    "collapsed": true
   },
   "outputs": [],
   "source": [
    "S = librosa.feature.melspectrogram(y, sr=sr, n_fft=n_fft, hop_length=hop_length, n_mels=n_mels)\n",
    "S_DB = librosa.power_to_db(S, ref=np.max)"
   ]
  },
  {
   "cell_type": "code",
   "execution_count": null,
   "metadata": {
    "collapsed": false
   },
   "outputs": [],
   "source": [
    "plt.figure(figsize=(10, 6));\n",
    "librosa.display.specshow(S_DB, sr=sr, hop_length=hop_length, x_axis='time', y_axis='mel');\n",
    "plt.colorbar(format='%+2.0f dB');"
   ]
  },
  {
   "cell_type": "code",
   "execution_count": null,
   "metadata": {
    "collapsed": false
   },
   "outputs": [],
   "source": [
    "np.shape(S_DB)"
   ]
  },
  {
   "cell_type": "code",
   "execution_count": null,
   "metadata": {
    "collapsed": false
   },
   "outputs": [],
   "source": [
    "10132* windows_per_second"
   ]
  },
  {
   "cell_type": "code",
   "execution_count": null,
   "metadata": {
    "collapsed": false
   },
   "outputs": [],
   "source": [
    "mfccs = librosa.feature.mfcc(y, sr=sr)\n",
    "librosa.display.specshow(mfccs, sr=sr, x_axis='time');"
   ]
  },
  {
   "cell_type": "code",
   "execution_count": null,
   "metadata": {
    "collapsed": false
   },
   "outputs": [],
   "source": [
    "np.shape(S_DB)"
   ]
  },
  {
   "cell_type": "code",
   "execution_count": null,
   "metadata": {
    "collapsed": false
   },
   "outputs": [],
   "source": [
    "np.shape(mfccs)"
   ]
  },
  {
   "cell_type": "code",
   "execution_count": null,
   "metadata": {
    "collapsed": false
   },
   "outputs": [],
   "source": [
    "spectral_novelty = librosa.onset.onset_strength(y, sr=sr)\n",
    "\n",
    "frames = np.arange(len(spectral_novelty))\n",
    "t = librosa.frames_to_time(frames, sr=sr)\n",
    "\n",
    "plt.figure(figsize=(15, 4))\n",
    "plt.plot(t, spectral_novelty, 'r-')\n",
    "# plt.xlim(0, t.max())\n",
    "plt.xlabel('Time (sec)')\n",
    "plt.legend(('Spectral Novelty',))"
   ]
  },
  {
   "cell_type": "code",
   "execution_count": null,
   "metadata": {
    "collapsed": false
   },
   "outputs": [],
   "source": [
    "windows_per_second = 43\n",
    "start_idxs = list(range(0, len(spectral_novelty), windows_per_second))\n",
    "sec_in_snip = 10\n",
    "windows_in_snip = sec_in_snip * windows_per_second\n",
    "\n",
    "snippets = [spectral_novelty[s_idx: s_idx + windows_in_snip] for s_idx in start_idxs[:-1]]\n",
    "snippets = np.array([a for a in snippets if len(a) == windows_in_snip])\n",
    "np.shape(snippets)"
   ]
  },
  {
   "cell_type": "code",
   "execution_count": null,
   "metadata": {
    "collapsed": false
   },
   "outputs": [],
   "source": [
    "plt.plot(snippets[0,:]);\n",
    "plt.plot(snippets[100,:]);\n"
   ]
  },
  {
   "cell_type": "code",
   "execution_count": null,
   "metadata": {
    "collapsed": false
   },
   "outputs": [],
   "source": [
    "clustering = DBSCAN(eps=3, min_samples=2).fit(snippets)"
   ]
  },
  {
   "cell_type": "code",
   "execution_count": null,
   "metadata": {
    "collapsed": true
   },
   "outputs": [],
   "source": []
  },
  {
   "cell_type": "code",
   "execution_count": null,
   "metadata": {
    "collapsed": true
   },
   "outputs": [],
   "source": []
  },
  {
   "cell_type": "code",
   "execution_count": null,
   "metadata": {
    "collapsed": true
   },
   "outputs": [],
   "source": [
    "clustering = DBSCAN(eps=3, min_samples=2).fit(S_DB.transpose())"
   ]
  },
  {
   "cell_type": "code",
   "execution_count": null,
   "metadata": {
    "collapsed": false
   },
   "outputs": [],
   "source": [
    "clustering.labels_"
   ]
  },
  {
   "cell_type": "code",
   "execution_count": null,
   "metadata": {
    "collapsed": false
   },
   "outputs": [],
   "source": [
    "np.shape(S_DB)"
   ]
  },
  {
   "cell_type": "code",
   "execution_count": null,
   "metadata": {
    "collapsed": true
   },
   "outputs": [],
   "source": []
  },
  {
   "cell_type": "code",
   "execution_count": null,
   "metadata": {
    "collapsed": true
   },
   "outputs": [],
   "source": []
  },
  {
   "cell_type": "code",
   "execution_count": null,
   "metadata": {
    "collapsed": true
   },
   "outputs": [],
   "source": []
  },
  {
   "cell_type": "code",
   "execution_count": null,
   "metadata": {
    "collapsed": true
   },
   "outputs": [],
   "source": []
  },
  {
   "cell_type": "code",
   "execution_count": null,
   "metadata": {
    "collapsed": true
   },
   "outputs": [],
   "source": []
  },
  {
   "cell_type": "code",
   "execution_count": null,
   "metadata": {
    "collapsed": true
   },
   "outputs": [],
   "source": []
  },
  {
   "cell_type": "code",
   "execution_count": null,
   "metadata": {
    "collapsed": true
   },
   "outputs": [],
   "source": []
  },
  {
   "cell_type": "code",
   "execution_count": null,
   "metadata": {
    "collapsed": true
   },
   "outputs": [],
   "source": []
  },
  {
   "cell_type": "code",
   "execution_count": null,
   "metadata": {
    "collapsed": true
   },
   "outputs": [],
   "source": []
  },
  {
   "cell_type": "code",
   "execution_count": null,
   "metadata": {
    "collapsed": true
   },
   "outputs": [],
   "source": []
  },
  {
   "cell_type": "code",
   "execution_count": null,
   "metadata": {
    "collapsed": true
   },
   "outputs": [],
   "source": []
  },
  {
   "cell_type": "code",
   "execution_count": null,
   "metadata": {
    "collapsed": true
   },
   "outputs": [],
   "source": []
  },
  {
   "cell_type": "code",
   "execution_count": null,
   "metadata": {
    "collapsed": true
   },
   "outputs": [],
   "source": []
  },
  {
   "cell_type": "code",
   "execution_count": null,
   "metadata": {
    "collapsed": true
   },
   "outputs": [],
   "source": []
  },
  {
   "cell_type": "code",
   "execution_count": null,
   "metadata": {
    "collapsed": true
   },
   "outputs": [],
   "source": []
  },
  {
   "cell_type": "code",
   "execution_count": null,
   "metadata": {
    "collapsed": true
   },
   "outputs": [],
   "source": []
  },
  {
   "cell_type": "code",
   "execution_count": null,
   "metadata": {
    "collapsed": true
   },
   "outputs": [],
   "source": []
  },
  {
   "cell_type": "code",
   "execution_count": null,
   "metadata": {
    "collapsed": true
   },
   "outputs": [],
   "source": []
  }
 ],
 "metadata": {
  "anaconda-cloud": {},
  "kernelspec": {
   "display_name": "Python [conda root]",
   "language": "python",
   "name": "conda-root-py"
  },
  "language_info": {
   "codemirror_mode": {
    "name": "ipython",
    "version": 3
   },
   "file_extension": ".py",
   "mimetype": "text/x-python",
   "name": "python",
   "nbconvert_exporter": "python",
   "pygments_lexer": "ipython3",
   "version": "3.5.2"
  }
 },
 "nbformat": 4,
 "nbformat_minor": 1
}
