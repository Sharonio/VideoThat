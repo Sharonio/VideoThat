{
 "cells": [
  {
   "cell_type": "code",
   "execution_count": 1,
   "metadata": {},
   "outputs": [],
   "source": [
    "import os\n",
    "import pandas as pd\n",
    "from pathlib import Path\n",
    "import librosa\n",
    "from IPython.display import HTML\n",
    "\n",
    "from moviepy.editor import *\n",
    "import moviepy.video.VideoClip\n",
    "import moviepy.editor as mpy\n",
    "from moviepy.editor import VideoFileClip, concatenate_videoclips\n",
    "\n",
    "from tqdm import tqdm_notebook as tqdm"
   ]
  },
  {
   "cell_type": "code",
   "execution_count": 2,
   "metadata": {},
   "outputs": [],
   "source": [
    "base_path = Path('../data/taylor') # change what comes after \"data\" for your computer location\n",
    "input_audio_path = '../data/music-from-youtube/Arctic Monkeys - Do I Wanna Know (Official Video)-bpOSxM0rNPM/Arctic Monkeys - Do I Wanna Know (Official Video)-bpOSxM0rNPM.webm.mp3'\n",
    "#'../data/playlist RICK AND MORTY SONGS/Seasons 1-3 Opening Credits _ Rick and Morty _ adult swim-DLaqu2QJYPY.mp3'\n",
    "\n",
    "taylor_swifts = [path for path in base_path.glob('Taylor Swift*') if path.is_dir()] # create a list of taylor song folder paths\n",
    "largest_files = [max(taylor_song.glob('*'), key=lambda f: f.stat().st_size) for taylor_song in taylor_swifts]"
   ]
  },
  {
   "cell_type": "code",
   "execution_count": 3,
   "metadata": {},
   "outputs": [
    {
     "data": {
      "text/html": [
       "<div>\n",
       "<style scoped>\n",
       "    .dataframe tbody tr th:only-of-type {\n",
       "        vertical-align: middle;\n",
       "    }\n",
       "\n",
       "    .dataframe tbody tr th {\n",
       "        vertical-align: top;\n",
       "    }\n",
       "\n",
       "    .dataframe thead th {\n",
       "        text-align: right;\n",
       "    }\n",
       "</style>\n",
       "<table border=\"1\" class=\"dataframe\">\n",
       "  <thead>\n",
       "    <tr style=\"text-align: right;\">\n",
       "      <th></th>\n",
       "      <th>name</th>\n",
       "      <th>song_wave</th>\n",
       "      <th>scene_start_times_sec</th>\n",
       "      <th>onset_times_sec</th>\n",
       "    </tr>\n",
       "  </thead>\n",
       "  <tbody>\n",
       "    <tr>\n",
       "      <th>0</th>\n",
       "      <td>Taylor Swift - White Horse-D1Xr-JFLxik</td>\n",
       "      <td>[0.0, 0.0, 0.0, 0.0, 0.0, 0.0, 0.0, 0.0, 0.0, ...</td>\n",
       "      <td>0        0.000\n",
       "1        0.667\n",
       "2        3.587\n",
       "3...</td>\n",
       "      <td>[0.6965986394557823, 1.3467573696145125, 1.648...</td>\n",
       "    </tr>\n",
       "    <tr>\n",
       "      <th>1</th>\n",
       "      <td>Taylor Swift - The Story Of Us-nN6VR92V70M</td>\n",
       "      <td>[0.0, 0.0, 0.0, 0.0, 0.0, 0.0, 0.0, 0.0, 0.0, ...</td>\n",
       "      <td>0        0.000\n",
       "1        0.500\n",
       "2        1.417\n",
       "3...</td>\n",
       "      <td>[0.6501587301587302, 0.905578231292517, 1.0913...</td>\n",
       "    </tr>\n",
       "    <tr>\n",
       "      <th>2</th>\n",
       "      <td>Taylor Swift - Delicate-tCXGJQYZ9JA</td>\n",
       "      <td>[0.0, 0.0, 0.0, 0.0, 0.0, 0.0, 0.0, 0.0, 0.0, ...</td>\n",
       "      <td>0       0.000\n",
       "1       3.045\n",
       "2       6.715\n",
       "3   ...</td>\n",
       "      <td>[3.8312925170068026, 4.040272108843538, 4.2028...</td>\n",
       "    </tr>\n",
       "  </tbody>\n",
       "</table>\n",
       "</div>"
      ],
      "text/plain": [
       "                                         name  \\\n",
       "0      Taylor Swift - White Horse-D1Xr-JFLxik   \n",
       "1  Taylor Swift - The Story Of Us-nN6VR92V70M   \n",
       "2         Taylor Swift - Delicate-tCXGJQYZ9JA   \n",
       "\n",
       "                                           song_wave  \\\n",
       "0  [0.0, 0.0, 0.0, 0.0, 0.0, 0.0, 0.0, 0.0, 0.0, ...   \n",
       "1  [0.0, 0.0, 0.0, 0.0, 0.0, 0.0, 0.0, 0.0, 0.0, ...   \n",
       "2  [0.0, 0.0, 0.0, 0.0, 0.0, 0.0, 0.0, 0.0, 0.0, ...   \n",
       "\n",
       "                               scene_start_times_sec  \\\n",
       "0  0        0.000\n",
       "1        0.667\n",
       "2        3.587\n",
       "3...   \n",
       "1  0        0.000\n",
       "1        0.500\n",
       "2        1.417\n",
       "3...   \n",
       "2  0       0.000\n",
       "1       3.045\n",
       "2       6.715\n",
       "3   ...   \n",
       "\n",
       "                                     onset_times_sec  \n",
       "0  [0.6965986394557823, 1.3467573696145125, 1.648...  \n",
       "1  [0.6501587301587302, 0.905578231292517, 1.0913...  \n",
       "2  [3.8312925170068026, 4.040272108843538, 4.2028...  "
      ]
     },
     "execution_count": 3,
     "metadata": {},
     "output_type": "execute_result"
    }
   ],
   "source": [
    "taylor_df = pd.read_pickle('taylor_df.pkl')\n",
    "taylor_df.head(3)"
   ]
  },
  {
   "cell_type": "code",
   "execution_count": 4,
   "metadata": {},
   "outputs": [
    {
     "name": "stdout",
     "output_type": "stream",
     "text": [
      "len video_clips =  30\n"
     ]
    }
   ],
   "source": [
    "video_clips = dict()\n",
    "\n",
    "for i in largest_files:\n",
    "    v = mpy.VideoFileClip(str(i))\n",
    "    video_clips.update({i.stem:v})\n",
    "\n",
    "print('len video_clips = ', len(video_clips))"
   ]
  },
  {
   "cell_type": "code",
   "execution_count": 5,
   "metadata": {},
   "outputs": [
    {
     "name": "stdout",
     "output_type": "stream",
     "text": [
      "(53, 3)\n"
     ]
    },
    {
     "data": {
      "text/html": [
       "<div>\n",
       "<style scoped>\n",
       "    .dataframe tbody tr th:only-of-type {\n",
       "        vertical-align: middle;\n",
       "    }\n",
       "\n",
       "    .dataframe tbody tr th {\n",
       "        vertical-align: top;\n",
       "    }\n",
       "\n",
       "    .dataframe thead th {\n",
       "        text-align: right;\n",
       "    }\n",
       "</style>\n",
       "<table border=\"1\" class=\"dataframe\">\n",
       "  <thead>\n",
       "    <tr style=\"text-align: right;\">\n",
       "      <th></th>\n",
       "      <th>name</th>\n",
       "      <th>start</th>\n",
       "      <th>end</th>\n",
       "    </tr>\n",
       "  </thead>\n",
       "  <tbody>\n",
       "    <tr>\n",
       "      <th>0</th>\n",
       "      <td>Taylor Swift - You Need To Calm Down-Dkk9gvTmCXY</td>\n",
       "      <td>85.294</td>\n",
       "      <td>87.337</td>\n",
       "    </tr>\n",
       "    <tr>\n",
       "      <th>1</th>\n",
       "      <td>Taylor Swift - You Need To Calm Down-Dkk9gvTmCXY</td>\n",
       "      <td>75.325</td>\n",
       "      <td>76.994</td>\n",
       "    </tr>\n",
       "    <tr>\n",
       "      <th>2</th>\n",
       "      <td>Taylor Swift - You Need To Calm Down-Dkk9gvTmCXY</td>\n",
       "      <td>76.994</td>\n",
       "      <td>77.744</td>\n",
       "    </tr>\n",
       "  </tbody>\n",
       "</table>\n",
       "</div>"
      ],
      "text/plain": [
       "                                               name   start     end\n",
       "0  Taylor Swift - You Need To Calm Down-Dkk9gvTmCXY  85.294  87.337\n",
       "1  Taylor Swift - You Need To Calm Down-Dkk9gvTmCXY  75.325  76.994\n",
       "2  Taylor Swift - You Need To Calm Down-Dkk9gvTmCXY  76.994  77.744"
      ]
     },
     "execution_count": 5,
     "metadata": {},
     "output_type": "execute_result"
    }
   ],
   "source": [
    "song_cuts = pd.read_pickle('arcticmonkeys2.pkl')\n",
    "print(song_cuts.shape)\n",
    "song_cuts.head(3)"
   ]
  },
  {
   "cell_type": "code",
   "execution_count": 6,
   "metadata": {},
   "outputs": [],
   "source": [
    "final_cut= []\n",
    "\n",
    "for index, row in song_cuts.iterrows():\n",
    "    v_time = [row.start, row.end]\n",
    "    v = video_clips[row['name']]\n",
    "\n",
    "    final_cut.append(v.subclip(*v_time).resize(width=720))   \n",
    "    \n",
    "audio = mpy.AudioFileClip(str(input_audio_path))"
   ]
  },
  {
   "cell_type": "code",
   "execution_count": 7,
   "metadata": {},
   "outputs": [],
   "source": [
    "joined = mpy.concatenate_videoclips(final_cut, method='compose')\n",
    "joined.audio = audio#.subclip(*audio_times)"
   ]
  },
  {
   "cell_type": "code",
   "execution_count": 9,
   "metadata": {},
   "outputs": [
    {
     "name": "stderr",
     "output_type": "stream",
     "text": [
      "\r",
      "chunk:  72%|███████▏  | 4222/5860 [00:20<00:03, 454.52it/s, now=None]"
     ]
    }
   ],
   "source": [
    "# joined.ipython_display(width=720)\n",
    "joined.write_videofile(\"videoThis.mp4\") # Will fail ! NO DURATION !"
   ]
  },
  {
   "cell_type": "code",
   "execution_count": null,
   "metadata": {},
   "outputs": [],
   "source": []
  }
 ],
 "metadata": {
  "kernelspec": {
   "display_name": "Python 3",
   "language": "python",
   "name": "python3"
  },
  "language_info": {
   "codemirror_mode": {
    "name": "ipython",
    "version": 3
   },
   "file_extension": ".py",
   "mimetype": "text/x-python",
   "name": "python",
   "nbconvert_exporter": "python",
   "pygments_lexer": "ipython3",
   "version": "3.7.4"
  }
 },
 "nbformat": 4,
 "nbformat_minor": 2
}
